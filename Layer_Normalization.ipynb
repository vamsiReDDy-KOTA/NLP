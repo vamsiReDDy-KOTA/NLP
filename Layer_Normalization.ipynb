{
 "cells": [
  {
   "cell_type": "code",
   "execution_count": 1,
   "metadata": {},
   "outputs": [],
   "source": [
    "\n",
    "\n",
    "import torch\n",
    "from torch import nn"
   ]
  },
  {
   "cell_type": "code",
   "execution_count": 2,
   "metadata": {},
   "outputs": [
    {
     "data": {
      "text/plain": [
       "torch.Size([2, 1, 3])"
      ]
     },
     "execution_count": 2,
     "metadata": {},
     "output_type": "execute_result"
    }
   ],
   "source": [
    "inputs = torch.Tensor([[[0.2, 0.1, 0.3], [0.5, 0.1, 0.1]]])\n",
    "B, S, E = inputs.size()\n",
    "inputs = inputs.reshape(S, B, E)\n",
    "inputs.size()"
   ]
  },
  {
   "cell_type": "code",
   "execution_count": 3,
   "metadata": {},
   "outputs": [],
   "source": [
    "\n",
    "parameter_shape = inputs.size()[-2:]\n",
    "gamma = nn.Parameter(torch.ones(parameter_shape))\n",
    "beta =  nn.Parameter(torch.zeros(parameter_shape))"
   ]
  },
  {
   "cell_type": "code",
   "execution_count": 4,
   "metadata": {},
   "outputs": [
    {
     "data": {
      "text/plain": [
       "(torch.Size([1, 3]), torch.Size([1, 3]))"
      ]
     },
     "execution_count": 4,
     "metadata": {},
     "output_type": "execute_result"
    }
   ],
   "source": [
    "\n",
    "gamma.size(), beta.size()"
   ]
  },
  {
   "cell_type": "code",
   "execution_count": 5,
   "metadata": {},
   "outputs": [],
   "source": [
    "\n",
    "\n",
    "dims = [-(i + 1) for i in range(len(parameter_shape))]"
   ]
  },
  {
   "cell_type": "code",
   "execution_count": 6,
   "metadata": {},
   "outputs": [
    {
     "data": {
      "text/plain": [
       "[-1, -2]"
      ]
     },
     "execution_count": 6,
     "metadata": {},
     "output_type": "execute_result"
    }
   ],
   "source": [
    "dims"
   ]
  },
  {
   "cell_type": "code",
   "execution_count": 7,
   "metadata": {},
   "outputs": [
    {
     "data": {
      "text/plain": [
       "torch.Size([2, 1, 1])"
      ]
     },
     "execution_count": 7,
     "metadata": {},
     "output_type": "execute_result"
    }
   ],
   "source": [
    "\n",
    "mean = inputs.mean(dim=dims, keepdim=True)\n",
    "mean.size()"
   ]
  },
  {
   "cell_type": "code",
   "execution_count": 8,
   "metadata": {},
   "outputs": [
    {
     "data": {
      "text/plain": [
       "tensor([[[0.2000]],\n",
       "\n",
       "        [[0.2333]]])"
      ]
     },
     "execution_count": 8,
     "metadata": {},
     "output_type": "execute_result"
    }
   ],
   "source": [
    "mean"
   ]
  },
  {
   "cell_type": "code",
   "execution_count": 9,
   "metadata": {},
   "outputs": [
    {
     "data": {
      "text/plain": [
       "tensor([[[0.0817]],\n",
       "\n",
       "        [[0.1886]]])"
      ]
     },
     "execution_count": 9,
     "metadata": {},
     "output_type": "execute_result"
    }
   ],
   "source": [
    "\n",
    "var = ((inputs - mean) ** 2).mean(dim=dims, keepdim=True)\n",
    "epsilon = 1e-5\n",
    "std = (var + epsilon).sqrt()\n",
    "std"
   ]
  },
  {
   "cell_type": "code",
   "execution_count": 10,
   "metadata": {},
   "outputs": [
    {
     "data": {
      "text/plain": [
       "tensor([[[ 0.0000, -1.2238,  1.2238]],\n",
       "\n",
       "        [[ 1.4140, -0.7070, -0.7070]]])"
      ]
     },
     "execution_count": 10,
     "metadata": {},
     "output_type": "execute_result"
    }
   ],
   "source": [
    "y = (inputs - mean) / std\n",
    "y"
   ]
  },
  {
   "cell_type": "code",
   "execution_count": 11,
   "metadata": {},
   "outputs": [],
   "source": [
    "out = gamma * y + beta\n"
   ]
  },
  {
   "cell_type": "code",
   "execution_count": 12,
   "metadata": {},
   "outputs": [
    {
     "data": {
      "text/plain": [
       "tensor([[[ 0.0000, -1.2238,  1.2238]],\n",
       "\n",
       "        [[ 1.4140, -0.7070, -0.7070]]], grad_fn=<AddBackward0>)"
      ]
     },
     "execution_count": 12,
     "metadata": {},
     "output_type": "execute_result"
    }
   ],
   "source": [
    "out\n"
   ]
  },
  {
   "cell_type": "markdown",
   "metadata": {},
   "source": [
    "class"
   ]
  },
  {
   "cell_type": "code",
   "execution_count": 13,
   "metadata": {},
   "outputs": [],
   "source": [
    "import torch\n",
    "from torch import nn\n",
    "\n",
    "class LayerNormalization():\n",
    "    def __init__(self, parameters_shape, eps=1e-5):\n",
    "        self.parameters_shape=parameters_shape\n",
    "        self.eps=eps\n",
    "        self.gamma = nn.Parameter(torch.ones(parameters_shape))\n",
    "        self.beta =  nn.Parameter(torch.zeros(parameters_shape))\n",
    "\n",
    "    def forward(self, input):\n",
    "        dims = [-(i + 1) for i in range(len(self.parameters_shape))]\n",
    "        mean = inputs.mean(dim=dims, keepdim=True)\n",
    "        print(f\"Mean \\n ({mean.size()}): \\n {mean}\")\n",
    "        var = ((inputs - mean) ** 2).mean(dim=dims, keepdim=True)\n",
    "        std = (var + self.eps).sqrt()\n",
    "        print(f\"Standard Deviation \\n ({std.size()}): \\n {std}\")\n",
    "        y = (inputs - mean) / std\n",
    "        print(f\"y \\n ({y.size()}) = \\n {y}\")\n",
    "        out = self.gamma * y  + self.beta\n",
    "        print(f\"out \\n ({out.size()}) = \\n {out}\")\n",
    "        return out"
   ]
  },
  {
   "cell_type": "code",
   "execution_count": 14,
   "metadata": {},
   "outputs": [
    {
     "name": "stdout",
     "output_type": "stream",
     "text": [
      "input \n",
      " (torch.Size([5, 3, 8])) = \n",
      " tensor([[[ 1.3394,  1.1978,  1.0886,  0.3532, -0.0821,  1.7808, -0.4583,\n",
      "           0.2895],\n",
      "         [ 1.4722, -0.3206,  0.5372, -0.2004,  1.1477,  0.4039,  0.1370,\n",
      "          -0.3159],\n",
      "         [ 1.0962, -1.2243,  0.9908,  0.3668,  1.1975, -1.0236, -0.8583,\n",
      "           0.3021]],\n",
      "\n",
      "        [[-0.7205, -0.8839, -0.9601,  1.4237,  0.3245, -0.3246, -0.3709,\n",
      "           2.1229],\n",
      "         [-0.4210,  0.5898,  1.5925, -0.5100,  0.2002,  1.3171, -0.2650,\n",
      "           0.0031],\n",
      "         [ 0.0451,  0.1525, -1.3250, -0.0041,  0.9804,  0.1324, -2.0061,\n",
      "           0.2426]],\n",
      "\n",
      "        [[-0.4651,  0.8401, -1.2045,  0.5012, -0.6813, -2.1767,  0.2083,\n",
      "           1.7364],\n",
      "         [ 0.1049,  0.3159, -1.8046, -0.9896,  0.2334,  1.4384,  0.3297,\n",
      "           0.8160],\n",
      "         [ 0.4176,  0.3167,  0.3075,  2.6232, -0.5630,  0.6807,  0.5105,\n",
      "           0.8698]],\n",
      "\n",
      "        [[ 0.7936,  0.1628, -1.4500, -1.2782, -0.6968, -0.1072, -0.2945,\n",
      "           0.1914],\n",
      "         [-1.6593, -0.2724, -1.4966,  1.5981,  1.0868,  0.7375,  0.3375,\n",
      "          -1.1230],\n",
      "         [ 0.4233,  0.1724, -0.4406,  1.3505, -0.5132, -1.1559, -1.1865,\n",
      "           1.1153]],\n",
      "\n",
      "        [[-2.0180,  1.0867, -0.8249, -0.7678,  0.6903, -0.4523, -0.0407,\n",
      "           1.0081],\n",
      "         [ 0.8996,  0.6014, -0.0425,  1.3091,  1.9044,  0.9732, -0.2047,\n",
      "           0.6584],\n",
      "         [ 1.4887,  1.5532,  1.0239, -0.3583,  1.4100,  1.9948, -0.5137,\n",
      "          -0.6146]]])\n"
     ]
    }
   ],
   "source": [
    "\n",
    "batch_size = 3\n",
    "sentence_length = 5\n",
    "embedding_dim = 8 \n",
    "inputs = torch.randn(sentence_length, batch_size, embedding_dim)\n",
    "\n",
    "print(f\"input \\n ({inputs.size()}) = \\n {inputs}\")"
   ]
  },
  {
   "cell_type": "code",
   "execution_count": 15,
   "metadata": {},
   "outputs": [],
   "source": [
    "layer_norm = LayerNormalization(inputs.size()[-1:])\n"
   ]
  },
  {
   "cell_type": "code",
   "execution_count": 16,
   "metadata": {},
   "outputs": [
    {
     "name": "stdout",
     "output_type": "stream",
     "text": [
      "Mean \n",
      " (torch.Size([5, 3, 1])): \n",
      " tensor([[[ 0.6886],\n",
      "         [ 0.3576],\n",
      "         [ 0.1059]],\n",
      "\n",
      "        [[ 0.0764],\n",
      "         [ 0.3133],\n",
      "         [-0.2228]],\n",
      "\n",
      "        [[-0.1552],\n",
      "         [ 0.0555],\n",
      "         [ 0.6454]],\n",
      "\n",
      "        [[-0.3349],\n",
      "         [-0.0989],\n",
      "         [-0.0293]],\n",
      "\n",
      "        [[-0.1648],\n",
      "         [ 0.7624],\n",
      "         [ 0.7480]]])\n",
      "Standard Deviation \n",
      " (torch.Size([5, 3, 1])): \n",
      " tensor([[[0.7260],\n",
      "         [0.6299],\n",
      "         [0.9379]],\n",
      "\n",
      "        [[1.0640],\n",
      "         [0.7400],\n",
      "         [0.8976]],\n",
      "\n",
      "        [[1.1561],\n",
      "         [0.9500],\n",
      "         [0.8453]],\n",
      "\n",
      "        [[0.7173],\n",
      "         [1.1534],\n",
      "         [0.8994]],\n",
      "\n",
      "        [[1.0003],\n",
      "         [0.6409],\n",
      "         [0.9961]]])\n",
      "y \n",
      " (torch.Size([5, 3, 8])) = \n",
      " tensor([[[ 0.8964,  0.7013,  0.5509, -0.4619, -1.0616,  1.5043, -1.5797,\n",
      "          -0.5497],\n",
      "         [ 1.7693, -1.0766,  0.2850, -0.8858,  1.2542,  0.0735, -0.3503,\n",
      "          -1.0692],\n",
      "         [ 1.0559, -1.4183,  0.9435,  0.2782,  1.1639, -1.2043, -1.0281,\n",
      "           0.2092]],\n",
      "\n",
      "        [[-0.7489, -0.9025, -0.9741,  1.2662,  0.2332, -0.3768, -0.4203,\n",
      "           1.9234],\n",
      "         [-0.9923,  0.3736,  1.7285, -1.1126, -0.1529,  1.3565, -0.7815,\n",
      "          -0.4193],\n",
      "         [ 0.2984,  0.4181, -1.2279,  0.2436,  1.3404,  0.3957, -1.9867,\n",
      "           0.5184]],\n",
      "\n",
      "        [[-0.2681,  0.8609, -0.9076,  0.5678, -0.4550, -1.7486,  0.3145,\n",
      "           1.6362],\n",
      "         [ 0.0520,  0.2741, -1.9580, -1.1001,  0.1872,  1.4557,  0.2886,\n",
      "           0.8005],\n",
      "         [-0.2695, -0.3888, -0.3997,  2.3399, -1.4296,  0.0417, -0.1595,\n",
      "           0.2655]],\n",
      "\n",
      "        [[ 1.5732,  0.6938, -1.5547, -1.3152, -0.5046,  0.3175,  0.0563,\n",
      "           0.7336],\n",
      "         [-1.3528, -0.1504, -1.2118,  1.4713,  1.0280,  0.7251,  0.3783,\n",
      "          -0.8878],\n",
      "         [ 0.5033,  0.2243, -0.4573,  1.5342, -0.5380, -1.2526, -1.2866,\n",
      "           1.2727]],\n",
      "\n",
      "        [[-1.8526,  1.2512, -0.6599, -0.6028,  0.8548, -0.2874,  0.1241,\n",
      "           1.1726],\n",
      "         [ 0.2142, -0.2511, -1.2558,  0.8530,  1.7819,  0.3289, -1.5088,\n",
      "          -0.1623],\n",
      "         [ 0.7436,  0.8084,  0.2769, -1.1106,  0.6645,  1.2516, -1.2666,\n",
      "          -1.3678]]])\n",
      "out \n",
      " (torch.Size([5, 3, 8])) = \n",
      " tensor([[[ 0.8964,  0.7013,  0.5509, -0.4619, -1.0616,  1.5043, -1.5797,\n",
      "          -0.5497],\n",
      "         [ 1.7693, -1.0766,  0.2850, -0.8858,  1.2542,  0.0735, -0.3503,\n",
      "          -1.0692],\n",
      "         [ 1.0559, -1.4183,  0.9435,  0.2782,  1.1639, -1.2043, -1.0281,\n",
      "           0.2092]],\n",
      "\n",
      "        [[-0.7489, -0.9025, -0.9741,  1.2662,  0.2332, -0.3768, -0.4203,\n",
      "           1.9234],\n",
      "         [-0.9923,  0.3736,  1.7285, -1.1126, -0.1529,  1.3565, -0.7815,\n",
      "          -0.4193],\n",
      "         [ 0.2984,  0.4181, -1.2279,  0.2436,  1.3404,  0.3957, -1.9867,\n",
      "           0.5184]],\n",
      "\n",
      "        [[-0.2681,  0.8609, -0.9076,  0.5678, -0.4550, -1.7486,  0.3145,\n",
      "           1.6362],\n",
      "         [ 0.0520,  0.2741, -1.9580, -1.1001,  0.1872,  1.4557,  0.2886,\n",
      "           0.8005],\n",
      "         [-0.2695, -0.3888, -0.3997,  2.3399, -1.4296,  0.0417, -0.1595,\n",
      "           0.2655]],\n",
      "\n",
      "        [[ 1.5732,  0.6938, -1.5547, -1.3152, -0.5046,  0.3175,  0.0563,\n",
      "           0.7336],\n",
      "         [-1.3528, -0.1504, -1.2118,  1.4713,  1.0280,  0.7251,  0.3783,\n",
      "          -0.8878],\n",
      "         [ 0.5033,  0.2243, -0.4573,  1.5342, -0.5380, -1.2526, -1.2866,\n",
      "           1.2727]],\n",
      "\n",
      "        [[-1.8526,  1.2512, -0.6599, -0.6028,  0.8548, -0.2874,  0.1241,\n",
      "           1.1726],\n",
      "         [ 0.2142, -0.2511, -1.2558,  0.8530,  1.7819,  0.3289, -1.5088,\n",
      "          -0.1623],\n",
      "         [ 0.7436,  0.8084,  0.2769, -1.1106,  0.6645,  1.2516, -1.2666,\n",
      "          -1.3678]]], grad_fn=<AddBackward0>)\n"
     ]
    }
   ],
   "source": [
    "out = layer_norm.forward(inputs)\n"
   ]
  },
  {
   "cell_type": "code",
   "execution_count": 17,
   "metadata": {},
   "outputs": [
    {
     "data": {
      "text/plain": [
       "(tensor(-9.9341e-09, grad_fn=<MeanBackward0>),\n",
       " tensor(1.0215, grad_fn=<StdBackward0>))"
      ]
     },
     "execution_count": 17,
     "metadata": {},
     "output_type": "execute_result"
    }
   ],
   "source": [
    "out[0].mean(), out[0].std()\n"
   ]
  },
  {
   "cell_type": "code",
   "execution_count": null,
   "metadata": {},
   "outputs": [],
   "source": []
  }
 ],
 "metadata": {
  "kernelspec": {
   "display_name": "Python 3",
   "language": "python",
   "name": "python3"
  },
  "language_info": {
   "codemirror_mode": {
    "name": "ipython",
    "version": 3
   },
   "file_extension": ".py",
   "mimetype": "text/x-python",
   "name": "python",
   "nbconvert_exporter": "python",
   "pygments_lexer": "ipython3",
   "version": "3.12.2"
  }
 },
 "nbformat": 4,
 "nbformat_minor": 2
}
