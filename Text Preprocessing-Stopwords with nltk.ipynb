{
 "cells": [
  {
   "cell_type": "code",
   "execution_count": 38,
   "id": "50282417",
   "metadata": {},
   "outputs": [],
   "source": [
    "Paragraph = \"\"\"Prime Minister Narendra Modi interrupted Jana Sena Party president Pawan Kalyan when the latter was addressing the first joint meeting of the TDP, JSP and BJP combine in Andhra Pradesh held at Chulakaluripeta on Sunday (March 17).\n",
    "\n",
    "The public address system played spoilsport during the meeting. The speeches of Mr. Modi, TDP national president N. Chandrababu Naidu and Mr. Pawan Kalyan were interrupted as the sound system developed glitches.\n",
    "\n",
    "The people were seen falling on the audio systems, while the police personnel and the party workers were seen struggling to keep the crowd away. However, the meeting saw frequent disruptions during the speeches as Mr. Modi, Mr. Naidu and Mr. Pawan Kalyan requested the crowd repeatedly to keep a safe distance from the sound systems.\n",
    "\n",
    "“I understand your love and affection for me. But it should not cause hindrances to the meeting due to the glitches caused to the sound systems,” Mr. Modi urged the crowd.\n",
    "\n",
    "\n",
    "Related Topics\n",
    "Andhra Pradesh / Vijayawada / state politics / Prime Minister Narendra Modi\n",
    "\n",
    "\n",
    "Popular\n",
    "\n",
    "BJP’s announcement of candidate from Araku Valley leaves TDP cadre shocked\n",
    "Naidu vows to bring Godavari water to Rayalaseema\n",
    "Reject ‘anti-people combine’ of TDP, BJP and JSP, Jagan Mohan Reddy exhorts people\n",
    "BJP leaders, cadre in jubilant mood with allocation of Etcherla ticket\n",
    "Ahead of Odisha polls, ex-BJD leader Bhartruhari Mahtab joins BJP\n",
    "\n",
    "\n",
    "\n",
    "\"\"\""
   ]
  },
  {
   "cell_type": "code",
   "execution_count": 2,
   "id": "c5497e06",
   "metadata": {},
   "outputs": [],
   "source": [
    "from nltk.stem import PorterStemmer"
   ]
  },
  {
   "cell_type": "code",
   "execution_count": 3,
   "id": "e9891515",
   "metadata": {},
   "outputs": [],
   "source": [
    "from nltk.corpus import stopwords"
   ]
  },
  {
   "cell_type": "code",
   "execution_count": 5,
   "id": "385a7dff",
   "metadata": {},
   "outputs": [
    {
     "name": "stderr",
     "output_type": "stream",
     "text": [
      "[nltk_data] Downloading package stopwords to\n",
      "[nltk_data]     C:\\Users\\kotaa\\AppData\\Roaming\\nltk_data...\n",
      "[nltk_data]   Unzipping corpora\\stopwords.zip.\n"
     ]
    },
    {
     "data": {
      "text/plain": [
       "True"
      ]
     },
     "execution_count": 5,
     "metadata": {},
     "output_type": "execute_result"
    }
   ],
   "source": [
    "import nltk\n",
    "nltk.download('stopwords')"
   ]
  },
  {
   "cell_type": "code",
   "execution_count": 12,
   "id": "b675d2fa",
   "metadata": {},
   "outputs": [
    {
     "data": {
      "text/plain": [
       "['i',\n",
       " 'me',\n",
       " 'my',\n",
       " 'myself',\n",
       " 'we',\n",
       " 'our',\n",
       " 'ours',\n",
       " 'ourselves',\n",
       " 'you',\n",
       " \"you're\",\n",
       " \"you've\",\n",
       " \"you'll\",\n",
       " \"you'd\",\n",
       " 'your',\n",
       " 'yours',\n",
       " 'yourself',\n",
       " 'yourselves',\n",
       " 'he',\n",
       " 'him',\n",
       " 'his',\n",
       " 'himself',\n",
       " 'she',\n",
       " \"she's\",\n",
       " 'her',\n",
       " 'hers',\n",
       " 'herself',\n",
       " 'it',\n",
       " \"it's\",\n",
       " 'its',\n",
       " 'itself',\n",
       " 'they',\n",
       " 'them',\n",
       " 'their',\n",
       " 'theirs',\n",
       " 'themselves',\n",
       " 'what',\n",
       " 'which',\n",
       " 'who',\n",
       " 'whom',\n",
       " 'this',\n",
       " 'that',\n",
       " \"that'll\",\n",
       " 'these',\n",
       " 'those',\n",
       " 'am',\n",
       " 'is',\n",
       " 'are',\n",
       " 'was',\n",
       " 'were',\n",
       " 'be',\n",
       " 'been',\n",
       " 'being',\n",
       " 'have',\n",
       " 'has',\n",
       " 'had',\n",
       " 'having',\n",
       " 'do',\n",
       " 'does',\n",
       " 'did',\n",
       " 'doing',\n",
       " 'a',\n",
       " 'an',\n",
       " 'the',\n",
       " 'and',\n",
       " 'but',\n",
       " 'if',\n",
       " 'or',\n",
       " 'because',\n",
       " 'as',\n",
       " 'until',\n",
       " 'while',\n",
       " 'of',\n",
       " 'at',\n",
       " 'by',\n",
       " 'for',\n",
       " 'with',\n",
       " 'about',\n",
       " 'against',\n",
       " 'between',\n",
       " 'into',\n",
       " 'through',\n",
       " 'during',\n",
       " 'before',\n",
       " 'after',\n",
       " 'above',\n",
       " 'below',\n",
       " 'to',\n",
       " 'from',\n",
       " 'up',\n",
       " 'down',\n",
       " 'in',\n",
       " 'out',\n",
       " 'on',\n",
       " 'off',\n",
       " 'over',\n",
       " 'under',\n",
       " 'again',\n",
       " 'further',\n",
       " 'then',\n",
       " 'once',\n",
       " 'here',\n",
       " 'there',\n",
       " 'when',\n",
       " 'where',\n",
       " 'why',\n",
       " 'how',\n",
       " 'all',\n",
       " 'any',\n",
       " 'both',\n",
       " 'each',\n",
       " 'few',\n",
       " 'more',\n",
       " 'most',\n",
       " 'other',\n",
       " 'some',\n",
       " 'such',\n",
       " 'no',\n",
       " 'nor',\n",
       " 'not',\n",
       " 'only',\n",
       " 'own',\n",
       " 'same',\n",
       " 'so',\n",
       " 'than',\n",
       " 'too',\n",
       " 'very',\n",
       " 's',\n",
       " 't',\n",
       " 'can',\n",
       " 'will',\n",
       " 'just',\n",
       " 'don',\n",
       " \"don't\",\n",
       " 'should',\n",
       " \"should've\",\n",
       " 'now',\n",
       " 'd',\n",
       " 'll',\n",
       " 'm',\n",
       " 'o',\n",
       " 're',\n",
       " 've',\n",
       " 'y',\n",
       " 'ain',\n",
       " 'aren',\n",
       " \"aren't\",\n",
       " 'couldn',\n",
       " \"couldn't\",\n",
       " 'didn',\n",
       " \"didn't\",\n",
       " 'doesn',\n",
       " \"doesn't\",\n",
       " 'hadn',\n",
       " \"hadn't\",\n",
       " 'hasn',\n",
       " \"hasn't\",\n",
       " 'haven',\n",
       " \"haven't\",\n",
       " 'isn',\n",
       " \"isn't\",\n",
       " 'ma',\n",
       " 'mightn',\n",
       " \"mightn't\",\n",
       " 'mustn',\n",
       " \"mustn't\",\n",
       " 'needn',\n",
       " \"needn't\",\n",
       " 'shan',\n",
       " \"shan't\",\n",
       " 'shouldn',\n",
       " \"shouldn't\",\n",
       " 'wasn',\n",
       " \"wasn't\",\n",
       " 'weren',\n",
       " \"weren't\",\n",
       " 'won',\n",
       " \"won't\",\n",
       " 'wouldn',\n",
       " \"wouldn't\"]"
      ]
     },
     "execution_count": 12,
     "metadata": {},
     "output_type": "execute_result"
    }
   ],
   "source": [
    "stopwords.words(\"english\")"
   ]
  },
  {
   "cell_type": "code",
   "execution_count": 13,
   "id": "3f0504ba",
   "metadata": {},
   "outputs": [],
   "source": [
    "from nltk.stem import PorterStemmer"
   ]
  },
  {
   "cell_type": "code",
   "execution_count": 14,
   "id": "4514967b",
   "metadata": {},
   "outputs": [],
   "source": [
    "stemmer = PorterStemmer()"
   ]
  },
  {
   "cell_type": "code",
   "execution_count": 39,
   "id": "8018a723",
   "metadata": {},
   "outputs": [],
   "source": [
    "sentences = nltk.sent_tokenize(Paragraph)"
   ]
  },
  {
   "cell_type": "code",
   "execution_count": 40,
   "id": "119e93dc",
   "metadata": {},
   "outputs": [
    {
     "data": {
      "text/plain": [
       "['Prime Minister Narendra Modi interrupted Jana Sena Party president Pawan Kalyan when the latter was addressing the first joint meeting of the TDP, JSP and BJP combine in Andhra Pradesh held at Chulakaluripeta on Sunday (March 17).',\n",
       " 'The public address system played spoilsport during the meeting.',\n",
       " 'The speeches of Mr. Modi, TDP national president N. Chandrababu Naidu and Mr. Pawan Kalyan were interrupted as the sound system developed glitches.',\n",
       " 'The people were seen falling on the audio systems, while the police personnel and the party workers were seen struggling to keep the crowd away.',\n",
       " 'However, the meeting saw frequent disruptions during the speeches as Mr. Modi, Mr. Naidu and Mr. Pawan Kalyan requested the crowd repeatedly to keep a safe distance from the sound systems.',\n",
       " '“I understand your love and affection for me.',\n",
       " 'But it should not cause hindrances to the meeting due to the glitches caused to the sound systems,” Mr. Modi urged the crowd.',\n",
       " 'Related Topics\\nAndhra Pradesh / Vijayawada / state politics / Prime Minister Narendra Modi\\n\\n\\nPopular\\n\\nBJP’s announcement of candidate from Araku Valley leaves TDP cadre shocked\\nNaidu vows to bring Godavari water to Rayalaseema\\nReject ‘anti-people combine’ of TDP, BJP and JSP, Jagan Mohan Reddy exhorts people\\nBJP leaders, cadre in jubilant mood with allocation of Etcherla ticket\\nAhead of Odisha polls, ex-BJD leader Bhartruhari Mahtab joins BJP']"
      ]
     },
     "execution_count": 40,
     "metadata": {},
     "output_type": "execute_result"
    }
   ],
   "source": [
    "sentences"
   ]
  },
  {
   "cell_type": "code",
   "execution_count": 19,
   "id": "f177ba27",
   "metadata": {},
   "outputs": [],
   "source": [
    "## Apply Stopwords and filter and then Apply Stemming"
   ]
  },
  {
   "cell_type": "code",
   "execution_count": 23,
   "id": "c182974e",
   "metadata": {},
   "outputs": [],
   "source": [
    "for i in range(len(sentences)):\n",
    "    words = nltk.word_tokenize(sentences[i])\n",
    "    words =[stemmer.stem(word) for word in words if word not in set(stopwords.words('english'))]\n",
    "    sentences[i] = \" \".join(words)"
   ]
  },
  {
   "cell_type": "code",
   "execution_count": 24,
   "id": "005584af",
   "metadata": {},
   "outputs": [
    {
     "data": {
      "text/plain": [
       "['the public address system play spoilsport meet .',\n",
       " 'the speech mr. modi , tdp nation presid n. chandrababu naidu mr. pawan kalyan interrupt sound system develop glitch .',\n",
       " 'the peopl seen fall audio system , polic personnel parti worker seen struggl keep crowd away .',\n",
       " 'howev , meet saw frequent disrupt speech mr. modi , mr. naidu mr. pawan kalyan request crowd repeatedli keep safe distanc sound system .',\n",
       " '“ i understand love affect .',\n",
       " 'but caus hindranc meet due glitch caus sound system , ” mr. modi urg crowd .',\n",
       " 'relat topic andhra pradesh / vijayawada / state polit / prime minist narendra modi popular bjp ’ announc candid araku valley leav tdp cadr shock naidu vow bring godavari water rayalaseema reject ‘ anti-peopl combin ’ tdp , bjp jsp , jagan mohan reddi exhort peopl bjp leader , cadr jubil mood alloc etcherla ticket ahead odisha poll , ex-bjd leader bhartruhari mahtab join bjp']"
      ]
     },
     "execution_count": 24,
     "metadata": {},
     "output_type": "execute_result"
    }
   ],
   "source": [
    "sentences\n"
   ]
  },
  {
   "cell_type": "code",
   "execution_count": 27,
   "id": "3bd0c284",
   "metadata": {},
   "outputs": [],
   "source": [
    "from nltk.stem import SnowballStemmer\n",
    "SnowballStemmer = SnowballStemmer('english')"
   ]
  },
  {
   "cell_type": "code",
   "execution_count": 28,
   "id": "fae46ace",
   "metadata": {},
   "outputs": [],
   "source": [
    "## Apply Stopwords and filter and then Apply SnowballStemmer"
   ]
  },
  {
   "cell_type": "code",
   "execution_count": 33,
   "id": "dd0b4a5e",
   "metadata": {},
   "outputs": [],
   "source": [
    "for i in range(len(sentences)):\n",
    "    words = nltk.word_tokenize(sentences[i])\n",
    "    words =[SnowballStemmer.stem(word) for word in words if word not in set(stopwords.words('english'))]\n",
    "    sentences[i] = \" \".join(words)"
   ]
  },
  {
   "cell_type": "code",
   "execution_count": 34,
   "id": "59dd072e",
   "metadata": {},
   "outputs": [
    {
     "data": {
      "text/plain": [
       "['prime minist narendra modi interrupt jana sena parti presid pawan kalyan latter address first joint meet tdp , jsp bjp combin andhra pradesh held chulakaluripeta sunday ( march 17 ) .',\n",
       " 'the public address system play spoilsport meet .',\n",
       " 'the speech mr. modi , tdp nation presid n. chandrababu naidu mr. pawan kalyan interrupt sound system develop glitch .',\n",
       " 'the peopl seen fall audio system , polic personnel parti worker seen struggl keep crowd away .',\n",
       " 'howev , meet saw frequent disrupt speech mr. modi , mr. naidu mr. pawan kalyan request crowd repeat keep safe distanc sound system .',\n",
       " '“ i understand love affect .',\n",
       " 'but caus hindranc meet due glitch caus sound system , ” mr. modi urg crowd .',\n",
       " 'relat topic andhra pradesh / vijayawada / state polit / prime minist narendra modi popular bjp ’ announc candid araku valley leav tdp cadr shock naidu vow bring godavari water rayalaseema reject ‘ anti-peopl combin ’ tdp , bjp jsp , jagan mohan reddi exhort peopl bjp leader , cadr jubil mood alloc etcherla ticket ahead odisha poll , ex-bjd leader bhartruhari mahtab join bjp']"
      ]
     },
     "execution_count": 34,
     "metadata": {},
     "output_type": "execute_result"
    }
   ],
   "source": [
    "sentences"
   ]
  },
  {
   "cell_type": "code",
   "execution_count": 41,
   "id": "3515c85c",
   "metadata": {},
   "outputs": [],
   "source": [
    "from nltk.stem import WordNetLemmatizer\n",
    "lemmatizer = WordNetLemmatizer()"
   ]
  },
  {
   "cell_type": "code",
   "execution_count": 42,
   "id": "d4b866c9",
   "metadata": {},
   "outputs": [],
   "source": [
    "## Apply Stopwords and filter and then Apply lemmatizer"
   ]
  },
  {
   "cell_type": "code",
   "execution_count": 43,
   "id": "422c534b",
   "metadata": {},
   "outputs": [],
   "source": [
    "for i in range(len(sentences)):\n",
    "    words = nltk.word_tokenize(sentences[i])\n",
    "    words =[lemmatizer.lemmatize(word) for word in words if word not in set(stopwords.words('english'))]\n",
    "    sentences[i] = \" \".join(words)"
   ]
  },
  {
   "cell_type": "code",
   "execution_count": 44,
   "id": "5a977474",
   "metadata": {},
   "outputs": [
    {
     "data": {
      "text/plain": [
       "['Prime Minister Narendra Modi interrupted Jana Sena Party president Pawan Kalyan latter addressing first joint meeting TDP , JSP BJP combine Andhra Pradesh held Chulakaluripeta Sunday ( March 17 ) .',\n",
       " 'The public address system played spoilsport meeting .',\n",
       " 'The speech Mr. Modi , TDP national president N. Chandrababu Naidu Mr. Pawan Kalyan interrupted sound system developed glitch .',\n",
       " 'The people seen falling audio system , police personnel party worker seen struggling keep crowd away .',\n",
       " 'However , meeting saw frequent disruption speech Mr. Modi , Mr. Naidu Mr. Pawan Kalyan requested crowd repeatedly keep safe distance sound system .',\n",
       " '“ I understand love affection .',\n",
       " 'But cause hindrance meeting due glitch caused sound system , ” Mr. Modi urged crowd .',\n",
       " 'Related Topics Andhra Pradesh / Vijayawada / state politics / Prime Minister Narendra Modi Popular BJP ’ announcement candidate Araku Valley leaf TDP cadre shocked Naidu vow bring Godavari water Rayalaseema Reject ‘ anti-people combine ’ TDP , BJP JSP , Jagan Mohan Reddy exhorts people BJP leader , cadre jubilant mood allocation Etcherla ticket Ahead Odisha poll , ex-BJD leader Bhartruhari Mahtab join BJP']"
      ]
     },
     "execution_count": 44,
     "metadata": {},
     "output_type": "execute_result"
    }
   ],
   "source": [
    "sentences"
   ]
  },
  {
   "cell_type": "code",
   "execution_count": null,
   "id": "e1ca55bd",
   "metadata": {},
   "outputs": [],
   "source": []
  }
 ],
 "metadata": {
  "kernelspec": {
   "display_name": "Python 3 (ipykernel)",
   "language": "python",
   "name": "python3"
  },
  "language_info": {
   "codemirror_mode": {
    "name": "ipython",
    "version": 3
   },
   "file_extension": ".py",
   "mimetype": "text/x-python",
   "name": "python",
   "nbconvert_exporter": "python",
   "pygments_lexer": "ipython3",
   "version": "3.10.9"
  }
 },
 "nbformat": 4,
 "nbformat_minor": 5
}
