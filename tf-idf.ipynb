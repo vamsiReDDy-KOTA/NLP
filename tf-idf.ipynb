{
 "cells": [
  {
   "cell_type": "code",
   "execution_count": 1,
   "id": "15eb6c51",
   "metadata": {},
   "outputs": [],
   "source": [
    "import spacy\n",
    "\n",
    "from sklearn.datasets import fetch_20newsgroups\n",
    "from sklearn.feature_extraction.text import TfidfVectorizer\n",
    "from sklearn.metrics.pairwise import cosine_similarity"
   ]
  },
  {
   "cell_type": "code",
   "execution_count": 3,
   "id": "ad8eb1c6",
   "metadata": {},
   "outputs": [],
   "source": [
    "corpus = fetch_20newsgroups(categories = ['sci.space'],\n",
    "                           remove = ['headers','footers','quotes']\n",
    "                           )"
   ]
  },
  {
   "cell_type": "code",
   "execution_count": 4,
   "id": "a6c3b676",
   "metadata": {},
   "outputs": [
    {
     "name": "stdout",
     "output_type": "stream",
     "text": [
      "<class 'sklearn.utils._bunch.Bunch'>\n"
     ]
    }
   ],
   "source": [
    "print(type(corpus))"
   ]
  },
  {
   "cell_type": "code",
   "execution_count": 5,
   "id": "0702824a",
   "metadata": {},
   "outputs": [
    {
     "data": {
      "text/plain": [
       "593"
      ]
     },
     "execution_count": 5,
     "metadata": {},
     "output_type": "execute_result"
    }
   ],
   "source": [
    "len(corpus.data)"
   ]
  },
  {
   "cell_type": "code",
   "execution_count": 6,
   "id": "067a2fe9",
   "metadata": {},
   "outputs": [
    {
     "data": {
      "text/plain": [
       "[\"\\nAny lunar satellite needs fuel to do regular orbit corrections, and when\\nits fuel runs out it will crash within months.  The orbits of the Apollo\\nmotherships changed noticeably during lunar missions lasting only a few\\ndays.  It is *possible* that there are stable orbits here and there --\\nthe Moon's gravitational field is poorly mapped -- but we know of none.\\n\\nPerturbations from Sun and Earth are relatively minor issues at low\\naltitudes.  The big problem is that the Moon's own gravitational field\\nis quite lumpy due to the irregular distribution of mass within the Moon.\",\n",
       " '\\nGlad to see Griffin is spending his time on engineering rather than on\\nritual purification of the language.  Pity he got stuck with the turkey\\nrather than one of the sensible options.']"
      ]
     },
     "execution_count": 6,
     "metadata": {},
     "output_type": "execute_result"
    }
   ],
   "source": [
    "corpus.data[:2]"
   ]
  },
  {
   "cell_type": "code",
   "execution_count": 15,
   "id": "aec84b8b",
   "metadata": {},
   "outputs": [],
   "source": [
    "nlp = spacy.load('en_core_web_sm')\n",
    "\n",
    "unwanted_pipes = [\"ner\",\"parser\"]\n",
    "\n",
    "def spacy_tokenizer(doc):\n",
    "    with nlp.disable_pipes(*unwanted_pipes):\n",
    "        return [t.lemma_ for t in nlp(doc) if \\\n",
    "                not t.is_punct and \\\n",
    "                not t.is_space and \\\n",
    "                t.is_alpha]"
   ]
  },
  {
   "cell_type": "code",
   "execution_count": 16,
   "id": "1ab674f6",
   "metadata": {},
   "outputs": [
    {
     "name": "stdout",
     "output_type": "stream",
     "text": [
      "CPU times: total: 30.9 s\n",
      "Wall time: 55.9 s\n"
     ]
    }
   ],
   "source": [
    "%%time\n",
    "\n",
    "vectorizer = TfidfVectorizer(tokenizer= spacy_tokenizer)\n",
    "features = vectorizer.fit_transform(corpus.data)"
   ]
  },
  {
   "cell_type": "code",
   "execution_count": 17,
   "id": "774c2c66",
   "metadata": {},
   "outputs": [
    {
     "name": "stdout",
     "output_type": "stream",
     "text": [
      "9440\n"
     ]
    }
   ],
   "source": [
    "print(len(vectorizer.get_feature_names_out()))"
   ]
  },
  {
   "cell_type": "code",
   "execution_count": 18,
   "id": "0ae6a937",
   "metadata": {},
   "outputs": [
    {
     "name": "stdout",
     "output_type": "stream",
     "text": [
      "(593, 9440)\n"
     ]
    }
   ],
   "source": [
    "# The dimensions of our feature matrix. X rows (documents) by Y columns (tokens).\n",
    "print(features.shape)"
   ]
  },
  {
   "cell_type": "code",
   "execution_count": 20,
   "id": "53a5c7ce",
   "metadata": {},
   "outputs": [
    {
     "name": "stdout",
     "output_type": "stream",
     "text": [
      "  (0, 5064)\t0.10452754121963853\n",
      "  (0, 2351)\t0.12747025764625855\n",
      "  (0, 4340)\t0.15331700873692364\n",
      "  (0, 2459)\t0.10862435105627101\n",
      "  (0, 4916)\t0.17102715751031994\n",
      "  (0, 6702)\t0.09940033595823265\n",
      "  (0, 5982)\t0.10183554382071024\n",
      "  (0, 6514)\t0.08455482269873241\n",
      "  (0, 896)\t0.0892999596249832\n",
      "  (0, 316)\t0.1109487112663238\n",
      "  (0, 4896)\t0.08247641364333849\n",
      "  (0, 628)\t0.051044670776703174\n",
      "  (0, 4368)\t0.10270174012167517\n",
      "  (0, 5274)\t0.13259746290766442\n",
      "  (0, 6908)\t0.12524708704889775\n",
      "  (0, 2494)\t0.07376562213268434\n",
      "  (0, 8105)\t0.09513204666042695\n",
      "  (0, 3287)\t0.051874685324429695\n",
      "  (0, 6181)\t0.1390186329543497\n",
      "  (0, 5652)\t0.11219531673533985\n",
      "  (0, 4589)\t0.06321728493925476\n",
      "  (0, 9158)\t0.06158004812009137\n",
      "  (0, 1141)\t0.048918909156680825\n",
      "  (0, 5023)\t0.12320196834845284\n",
      "  (0, 6354)\t0.15331700873692364\n",
      "  :\t:\n",
      "  (0, 1344)\t0.09036471134545682\n",
      "  (0, 5403)\t0.17102715751031994\n",
      "  (0, 451)\t0.10452754121963853\n",
      "  (0, 5790)\t0.0991335109087398\n",
      "  (0, 8368)\t0.20402991671500817\n",
      "  (0, 5377)\t0.10099775257415368\n",
      "  (0, 9288)\t0.19295422430071502\n",
      "  (0, 1901)\t0.13560685996352737\n",
      "  (0, 9251)\t0.059876060572569896\n",
      "  (0, 4372)\t0.07654889960067542\n",
      "  (0, 5938)\t0.06437012757347277\n",
      "  (0, 7214)\t0.09717716536087184\n",
      "  (0, 4381)\t0.07522603925785983\n",
      "  (0, 9214)\t0.07158981085158692\n",
      "  (0, 371)\t0.10544208975368659\n",
      "  (0, 1846)\t0.13560685996352737\n",
      "  (0, 5882)\t0.21555560387140033\n",
      "  (0, 6885)\t0.13560685996352737\n",
      "  (0, 2372)\t0.04343313069714861\n",
      "  (0, 8491)\t0.06551548062794398\n",
      "  (0, 3300)\t0.1988006719164653\n",
      "  (0, 5546)\t0.07463181843364929\n",
      "  (0, 7281)\t0.08827780957141772\n",
      "  (0, 4918)\t0.17756754701430466\n",
      "  (0, 426)\t0.07007152202826399\n"
     ]
    }
   ],
   "source": [
    "print(features[0])"
   ]
  },
  {
   "cell_type": "code",
   "execution_count": 21,
   "id": "5241cfd1",
   "metadata": {},
   "outputs": [],
   "source": [
    "# Transform the query into a TF-IDF vector.\n",
    "query = [\"lunar orbit\"]\n",
    "query_tfidf = vectorizer.transform(query)"
   ]
  },
  {
   "cell_type": "code",
   "execution_count": 22,
   "id": "73136c42",
   "metadata": {},
   "outputs": [],
   "source": [
    "cosine_similarities = cosine_similarity(features, query_tfidf).flatten()"
   ]
  },
  {
   "cell_type": "code",
   "execution_count": 23,
   "id": "e09439a0",
   "metadata": {},
   "outputs": [],
   "source": [
    "import numpy as np\n",
    "\n",
    "# numpy's argsort() method returns a list of *indices* that\n",
    "# would sort an array:\n",
    "# https://numpy.org/doc/stable/reference/generated/numpy.argsort.html\n",
    "#\n",
    "# The sort is ascending, but we want the largest k cosine_similarites\n",
    "# at the bottom of the sort. So we negate k, and get the last k\n",
    "# entries of the indices list in reverse order. There are faster\n",
    "# ways to do this using things like argpartition but this is\n",
    "# more succinct.\n",
    "def top_k(arr, k):\n",
    "  kth_largest = (k + 1) * -1\n",
    "  return np.argsort(arr)[:kth_largest:-1]"
   ]
  },
  {
   "cell_type": "code",
   "execution_count": 24,
   "id": "509f158d",
   "metadata": {},
   "outputs": [
    {
     "name": "stdout",
     "output_type": "stream",
     "text": [
      "[249 108   0 312 509]\n"
     ]
    }
   ],
   "source": [
    "# So for our query above, these are the top five documents.\n",
    "top_related_indices = top_k(cosine_similarities, 5)\n",
    "print(top_related_indices)"
   ]
  },
  {
   "cell_type": "code",
   "execution_count": 25,
   "id": "24013086",
   "metadata": {},
   "outputs": [
    {
     "name": "stdout",
     "output_type": "stream",
     "text": [
      "[0.47855355 0.4292246  0.2736328  0.19486489 0.19125175]\n"
     ]
    }
   ],
   "source": [
    "# Let's take a look at their respective cosine similarities.\n",
    "print(cosine_similarities[top_related_indices])"
   ]
  },
  {
   "cell_type": "code",
   "execution_count": 26,
   "id": "07eef062",
   "metadata": {},
   "outputs": [
    {
     "name": "stdout",
     "output_type": "stream",
     "text": [
      "\n",
      "Actually, Hiten wasn't originally intended to go into lunar orbit at all,\n",
      "so it indeed didn't have much fuel on hand.  The lunar-orbit mission was\n",
      "an afterthought, after Hagoromo (a tiny subsatellite deployed by Hiten\n",
      "during a lunar flyby) had a transmitter failure and its proper insertion\n",
      "into lunar orbit couldn't be positively confirmed.\n",
      "\n",
      "It should be noted that the technique does have disadvantages.  It takes\n",
      "a long time, and you end up with a relatively inconvenient lunar orbit.\n",
      "If you want something useful like a low circular polar orbit, you do have\n",
      "to plan to expend a certain amount of fuel, although it is reduced from\n",
      "what you'd need for the brute-force approach.\n"
     ]
    }
   ],
   "source": [
    "# Top match.\n",
    "print(corpus.data[top_related_indices[0]])"
   ]
  },
  {
   "cell_type": "code",
   "execution_count": 27,
   "id": "3dfe6baf",
   "metadata": {},
   "outputs": [
    {
     "name": "stdout",
     "output_type": "stream",
     "text": [
      "\n",
      "Their Hiten engineering-test mission spent a while in a highly eccentric\n",
      "Earth orbit doing lunar flybys, and then was inserted into lunar orbit\n",
      "using some very tricky gravity-assist-like maneuvering.  This meant that\n",
      "it would crash on the Moon eventually, since there is no such thing as\n",
      "a stable lunar orbit (as far as anyone knows), and I believe I recall\n",
      "hearing recently that it was about to happen.\n"
     ]
    }
   ],
   "source": [
    "# Second-best match.\n",
    "print(corpus.data[top_related_indices[1]])"
   ]
  },
  {
   "cell_type": "code",
   "execution_count": 28,
   "id": "b1de6ff2",
   "metadata": {},
   "outputs": [
    {
     "name": "stdout",
     "output_type": "stream",
     "text": [
      "[378 138 248 539  61]\n",
      "[0.39068985 0.34073761 0.29838056 0.26242297 0.25695438]\n"
     ]
    }
   ],
   "source": [
    "# Try a different query\n",
    "query = [\"satellite\"]\n",
    "query_tfidf = vectorizer.transform(query)\n",
    "\n",
    "cosine_similarities = cosine_similarity(features, query_tfidf).flatten()\n",
    "top_related_indices = top_k(cosine_similarities, 5)\n",
    "\n",
    "print(top_related_indices)\n",
    "print(cosine_similarities[top_related_indices])"
   ]
  },
  {
   "cell_type": "code",
   "execution_count": 29,
   "id": "7037b860",
   "metadata": {},
   "outputs": [
    {
     "name": "stdout",
     "output_type": "stream",
     "text": [
      "\n",
      "\n",
      "As an Amateur Radio operator (VHF 2metres) I like to keep up with what is \n",
      "going up (and for that matter what is coming down too).\n",
      " \n",
      "In about 30 days I have learned ALOT about satellites current, future and \n",
      "past all the way back to Vanguard series and up to Astro D observatory \n",
      "(space).  I borrowed a book from the library called Weater Satellites (I \n",
      "think, it has a photo of the earth with a TIROS type satellite on it.)\n",
      " \n",
      "I would like to build a model or have a large color poster of one of the \n",
      "TIROS satellites I think there are places in the USA that sell them.\n",
      "ITOS is my favorite looking satellite, followed by AmSat-OSCAR 13 \n",
      "(AO-13).\n",
      " \n",
      "TTYL\n",
      "73\n",
      "Jim\n"
     ]
    }
   ],
   "source": [
    "print(corpus.data[top_related_indices[0]])"
   ]
  },
  {
   "cell_type": "code",
   "execution_count": null,
   "id": "08680e45",
   "metadata": {},
   "outputs": [],
   "source": []
  }
 ],
 "metadata": {
  "kernelspec": {
   "display_name": "Python 3 (ipykernel)",
   "language": "python",
   "name": "python3"
  },
  "language_info": {
   "codemirror_mode": {
    "name": "ipython",
    "version": 3
   },
   "file_extension": ".py",
   "mimetype": "text/x-python",
   "name": "python",
   "nbconvert_exporter": "python",
   "pygments_lexer": "ipython3",
   "version": "3.10.9"
  }
 },
 "nbformat": 4,
 "nbformat_minor": 5
}
