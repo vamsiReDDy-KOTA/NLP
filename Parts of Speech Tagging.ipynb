{
 "cells": [
  {
   "cell_type": "code",
   "execution_count": 1,
   "id": "3f9b5534",
   "metadata": {},
   "outputs": [],
   "source": [
    "Paragraph = \"\"\"Prime Minister Narendra Modi interrupted Jana Sena Party president Pawan Kalyan when the latter was addressing the first joint meeting of the TDP, JSP and BJP combine in Andhra Pradesh held at Chulakaluripeta on Sunday (March 17).\n",
    "\n",
    "The public address system played spoilsport during the meeting. The speeches of Mr. Modi, TDP national president N. Chandrababu Naidu and Mr. Pawan Kalyan were interrupted as the sound system developed glitches.\n",
    "\n",
    "The people were seen falling on the audio systems, while the police personnel and the party workers were seen struggling to keep the crowd away. However, the meeting saw frequent disruptions during the speeches as Mr. Modi, Mr. Naidu and Mr. Pawan Kalyan requested the crowd repeatedly to keep a safe distance from the sound systems.\n",
    "\n",
    "“I understand your love and affection for me. But it should not cause hindrances to the meeting due to the glitches caused to the sound systems,” Mr. Modi urged the crowd.\n",
    "\n",
    "\n",
    "Related Topics\n",
    "Andhra Pradesh / Vijayawada / state politics / Prime Minister Narendra Modi\n",
    "\n",
    "\n",
    "Popular\n",
    "\n",
    "BJP’s announcement of candidate from Araku Valley leaves TDP cadre shocked\n",
    "Naidu vows to bring Godavari water to Rayalaseema\n",
    "Reject ‘anti-people combine’ of TDP, BJP and JSP, Jagan Mohan Reddy exhorts people\n",
    "BJP leaders, cadre in jubilant mood with allocation of Etcherla ticket\n",
    "Ahead of Odisha polls, ex-BJD leader Bhartruhari Mahtab joins BJP\n",
    "\n",
    "\n",
    "\n",
    "\"\"\""
   ]
  },
  {
   "cell_type": "code",
   "execution_count": 4,
   "id": "09b9758a",
   "metadata": {},
   "outputs": [],
   "source": [
    "from nltk.stem import PorterStemmer\n",
    "from nltk.corpus import stopwords"
   ]
  },
  {
   "cell_type": "code",
   "execution_count": 2,
   "id": "02f6cf99",
   "metadata": {},
   "outputs": [],
   "source": [
    "import nltk\n",
    "sentences = nltk.sent_tokenize(Paragraph)"
   ]
  },
  {
   "cell_type": "code",
   "execution_count": 7,
   "id": "a88b4f27",
   "metadata": {},
   "outputs": [
    {
     "name": "stderr",
     "output_type": "stream",
     "text": [
      "[nltk_data] Downloading package averaged_perceptron_tagger to\n",
      "[nltk_data]     C:\\Users\\kotaa\\AppData\\Roaming\\nltk_data...\n",
      "[nltk_data]   Unzipping taggers\\averaged_perceptron_tagger.zip.\n"
     ]
    },
    {
     "data": {
      "text/plain": [
       "True"
      ]
     },
     "execution_count": 7,
     "metadata": {},
     "output_type": "execute_result"
    }
   ],
   "source": [
    "nltk.download('averaged_perceptron_tagger')"
   ]
  },
  {
   "cell_type": "code",
   "execution_count": 3,
   "id": "1c7a2872",
   "metadata": {},
   "outputs": [
    {
     "data": {
      "text/plain": [
       "['Prime Minister Narendra Modi interrupted Jana Sena Party president Pawan Kalyan when the latter was addressing the first joint meeting of the TDP, JSP and BJP combine in Andhra Pradesh held at Chulakaluripeta on Sunday (March 17).',\n",
       " 'The public address system played spoilsport during the meeting.',\n",
       " 'The speeches of Mr. Modi, TDP national president N. Chandrababu Naidu and Mr. Pawan Kalyan were interrupted as the sound system developed glitches.',\n",
       " 'The people were seen falling on the audio systems, while the police personnel and the party workers were seen struggling to keep the crowd away.',\n",
       " 'However, the meeting saw frequent disruptions during the speeches as Mr. Modi, Mr. Naidu and Mr. Pawan Kalyan requested the crowd repeatedly to keep a safe distance from the sound systems.',\n",
       " '“I understand your love and affection for me.',\n",
       " 'But it should not cause hindrances to the meeting due to the glitches caused to the sound systems,” Mr. Modi urged the crowd.',\n",
       " 'Related Topics\\nAndhra Pradesh / Vijayawada / state politics / Prime Minister Narendra Modi\\n\\n\\nPopular\\n\\nBJP’s announcement of candidate from Araku Valley leaves TDP cadre shocked\\nNaidu vows to bring Godavari water to Rayalaseema\\nReject ‘anti-people combine’ of TDP, BJP and JSP, Jagan Mohan Reddy exhorts people\\nBJP leaders, cadre in jubilant mood with allocation of Etcherla ticket\\nAhead of Odisha polls, ex-BJD leader Bhartruhari Mahtab joins BJP']"
      ]
     },
     "execution_count": 3,
     "metadata": {},
     "output_type": "execute_result"
    }
   ],
   "source": [
    "sentences"
   ]
  },
  {
   "cell_type": "code",
   "execution_count": 8,
   "id": "62dd2422",
   "metadata": {},
   "outputs": [
    {
     "name": "stdout",
     "output_type": "stream",
     "text": [
      "[('Prime', 'NNP'), ('Minister', 'NNP'), ('Narendra', 'NNP'), ('Modi', 'NNP'), ('interrupted', 'VBD'), ('Jana', 'NNP'), ('Sena', 'NNP'), ('Party', 'NNP'), ('president', 'NN'), ('Pawan', 'NNP'), ('Kalyan', 'NNP'), ('latter', 'NN'), ('addressing', 'VBG'), ('first', 'JJ'), ('joint', 'JJ'), ('meeting', 'NN'), ('TDP', 'NNP'), (',', ','), ('JSP', 'NNP'), ('BJP', 'NNP'), ('combine', 'NN'), ('Andhra', 'NNP'), ('Pradesh', 'NNP'), ('held', 'VBD'), ('Chulakaluripeta', 'NNP'), ('Sunday', 'NNP'), ('(', '('), ('March', 'NNP'), ('17', 'CD'), (')', ')'), ('.', '.')]\n",
      "[('The', 'DT'), ('public', 'JJ'), ('address', 'NN'), ('system', 'NN'), ('played', 'VBD'), ('spoilsport', 'NN'), ('meeting', 'NN'), ('.', '.')]\n",
      "[('The', 'DT'), ('speeches', 'NNS'), ('Mr.', 'NNP'), ('Modi', 'NNP'), (',', ','), ('TDP', 'NNP'), ('national', 'JJ'), ('president', 'NN'), ('N.', 'NNP'), ('Chandrababu', 'NNP'), ('Naidu', 'NNP'), ('Mr.', 'NNP'), ('Pawan', 'NNP'), ('Kalyan', 'NNP'), ('interrupted', 'VBD'), ('sound', 'NN'), ('system', 'NN'), ('developed', 'VBD'), ('glitches', 'NNS'), ('.', '.')]\n",
      "[('The', 'DT'), ('people', 'NNS'), ('seen', 'VBN'), ('falling', 'VBG'), ('audio', 'JJ'), ('systems', 'NNS'), (',', ','), ('police', 'JJ'), ('personnel', 'NNS'), ('party', 'NN'), ('workers', 'NNS'), ('seen', 'VBN'), ('struggling', 'VBG'), ('keep', 'VB'), ('crowd', 'NN'), ('away', 'RB'), ('.', '.')]\n",
      "[('However', 'RB'), (',', ','), ('meeting', 'VBG'), ('saw', 'JJ'), ('frequent', 'JJ'), ('disruptions', 'NNS'), ('speeches', 'VBZ'), ('Mr.', 'NNP'), ('Modi', 'NNP'), (',', ','), ('Mr.', 'NNP'), ('Naidu', 'NNP'), ('Mr.', 'NNP'), ('Pawan', 'NNP'), ('Kalyan', 'NNP'), ('requested', 'VBD'), ('crowd', 'NNS'), ('repeatedly', 'RB'), ('keep', 'VBP'), ('safe', 'JJ'), ('distance', 'NN'), ('sound', 'NN'), ('systems', 'NNS'), ('.', '.')]\n",
      "[('“', 'NN'), ('I', 'PRP'), ('understand', 'VBP'), ('love', 'JJ'), ('affection', 'NN'), ('.', '.')]\n",
      "[('But', 'CC'), ('cause', 'NN'), ('hindrances', 'NNS'), ('meeting', 'NN'), ('due', 'JJ'), ('glitches', 'NNS'), ('caused', 'VBD'), ('sound', 'JJ'), ('systems', 'NNS'), (',', ','), ('”', 'VBZ'), ('Mr.', 'NNP'), ('Modi', 'NNP'), ('urged', 'VBD'), ('crowd', 'NNS'), ('.', '.')]\n",
      "[('Related', 'JJ'), ('Topics', 'NNPS'), ('Andhra', 'NNP'), ('Pradesh', 'NNP'), ('/', 'NNP'), ('Vijayawada', 'NNP'), ('/', 'NNP'), ('state', 'NN'), ('politics', 'NNS'), ('/', 'VBP'), ('Prime', 'NNP'), ('Minister', 'NNP'), ('Narendra', 'NNP'), ('Modi', 'NNP'), ('Popular', 'NNP'), ('BJP', 'NNP'), ('’', 'NNP'), ('announcement', 'NN'), ('candidate', 'NN'), ('Araku', 'NNP'), ('Valley', 'NNP'), ('leaves', 'VBZ'), ('TDP', 'NNP'), ('cadre', 'NN'), ('shocked', 'VBD'), ('Naidu', 'NNP'), ('vows', 'NNS'), ('bring', 'VBP'), ('Godavari', 'NNP'), ('water', 'NN'), ('Rayalaseema', 'NNP'), ('Reject', 'NNP'), ('‘', 'NNP'), ('anti-people', 'JJ'), ('combine', 'NN'), ('’', 'NNP'), ('TDP', 'NNP'), (',', ','), ('BJP', 'NNP'), ('JSP', 'NNP'), (',', ','), ('Jagan', 'NNP'), ('Mohan', 'NNP'), ('Reddy', 'NNP'), ('exhorts', 'VBZ'), ('people', 'NNS'), ('BJP', 'NNP'), ('leaders', 'NNS'), (',', ','), ('cadre', 'NN'), ('jubilant', 'NN'), ('mood', 'NN'), ('allocation', 'NN'), ('Etcherla', 'NNP'), ('ticket', 'NN'), ('Ahead', 'NNP'), ('Odisha', 'NNP'), ('polls', 'NNS'), (',', ','), ('ex-BJD', 'JJ'), ('leader', 'NN'), ('Bhartruhari', 'NNP'), ('Mahtab', 'NNP'), ('joins', 'VBZ'), ('BJP', 'NNP')]\n"
     ]
    }
   ],
   "source": [
    "## we will find out the pas tag\n",
    "\n",
    "for i in range(len(sentences)):\n",
    "    words = nltk.word_tokenize(sentences[i])\n",
    "    words = [word for word in words if word not in set(stopwords.words('english'))]\n",
    "    poss_tag = nltk.pos_tag(words)\n",
    "    print(poss_tag)\n",
    "#     sentences[i]= ' '.join(words)"
   ]
  },
  {
   "cell_type": "code",
   "execution_count": null,
   "id": "913042df",
   "metadata": {},
   "outputs": [],
   "source": []
  }
 ],
 "metadata": {
  "kernelspec": {
   "display_name": "Python 3 (ipykernel)",
   "language": "python",
   "name": "python3"
  },
  "language_info": {
   "codemirror_mode": {
    "name": "ipython",
    "version": 3
   },
   "file_extension": ".py",
   "mimetype": "text/x-python",
   "name": "python",
   "nbconvert_exporter": "python",
   "pygments_lexer": "ipython3",
   "version": "3.10.9"
  }
 },
 "nbformat": 4,
 "nbformat_minor": 5
}
