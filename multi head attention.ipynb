{
 "cells": [
  {
   "cell_type": "code",
   "execution_count": 1,
   "metadata": {},
   "outputs": [],
   "source": [
    "import numpy as np\n",
    "import torch\n",
    "import torch.nn as nn\n",
    "import torch.nn.functional as F"
   ]
  },
  {
   "cell_type": "code",
   "execution_count": 2,
   "metadata": {},
   "outputs": [],
   "source": [
    "sequence_length = 4\n",
    "batch_size = 1\n",
    "input_dim = 512\n",
    "d_model = 512\n",
    "x = torch.randn( (batch_size, sequence_length, input_dim) )"
   ]
  },
  {
   "cell_type": "code",
   "execution_count": 3,
   "metadata": {},
   "outputs": [
    {
     "data": {
      "text/plain": [
       "torch.Size([1, 4, 512])"
      ]
     },
     "execution_count": 3,
     "metadata": {},
     "output_type": "execute_result"
    }
   ],
   "source": [
    "x.size()"
   ]
  },
  {
   "cell_type": "code",
   "execution_count": 4,
   "metadata": {},
   "outputs": [
    {
     "data": {
      "text/plain": [
       "tensor([[[-0.4623, -0.1224,  0.4430,  ...,  1.0230,  0.6502,  1.8083],\n",
       "         [ 0.1987,  0.6686, -2.0054,  ..., -0.9855, -1.1529,  0.7186],\n",
       "         [ 0.3960, -0.4231,  0.2926,  ..., -0.4850, -0.9347, -0.9549],\n",
       "         [-1.0724, -0.5286,  0.9893,  ..., -0.8820, -0.0426,  0.9307]]])"
      ]
     },
     "execution_count": 4,
     "metadata": {},
     "output_type": "execute_result"
    }
   ],
   "source": [
    "x"
   ]
  },
  {
   "cell_type": "code",
   "execution_count": 5,
   "metadata": {},
   "outputs": [],
   "source": [
    "qkv_layer = nn.Linear(input_dim , 3 * d_model)"
   ]
  },
  {
   "cell_type": "code",
   "execution_count": 6,
   "metadata": {},
   "outputs": [],
   "source": [
    "qkv = qkv_layer(x)"
   ]
  },
  {
   "cell_type": "code",
   "execution_count": 7,
   "metadata": {},
   "outputs": [
    {
     "data": {
      "text/plain": [
       "torch.Size([1, 4, 1536])"
      ]
     },
     "execution_count": 7,
     "metadata": {},
     "output_type": "execute_result"
    }
   ],
   "source": [
    "qkv.shape"
   ]
  },
  {
   "cell_type": "code",
   "execution_count": 9,
   "metadata": {},
   "outputs": [
    {
     "name": "stdout",
     "output_type": "stream",
     "text": [
      "Defaulting to user installation because normal site-packages is not writeable\n",
      "Collecting matplotlib\n",
      "  Downloading matplotlib-3.8.4-cp312-cp312-win_amd64.whl.metadata (5.9 kB)\n",
      "Collecting contourpy>=1.0.1 (from matplotlib)\n",
      "  Downloading contourpy-1.2.1-cp312-cp312-win_amd64.whl.metadata (5.8 kB)\n",
      "Collecting cycler>=0.10 (from matplotlib)\n",
      "  Downloading cycler-0.12.1-py3-none-any.whl.metadata (3.8 kB)\n",
      "Collecting fonttools>=4.22.0 (from matplotlib)\n",
      "  Downloading fonttools-4.51.0-cp312-cp312-win_amd64.whl.metadata (162 kB)\n",
      "     ---------------------------------------- 0.0/162.8 kB ? eta -:--:--\n",
      "     ---------------------------------------- 0.0/162.8 kB ? eta -:--:--\n",
      "     -- ------------------------------------- 10.2/162.8 kB ? eta -:--:--\n",
      "     ------ ------------------------------ 30.7/162.8 kB 325.1 kB/s eta 0:00:01\n",
      "     --------- --------------------------- 41.0/162.8 kB 326.8 kB/s eta 0:00:01\n",
      "     ------------------ ------------------ 81.9/162.8 kB 508.4 kB/s eta 0:00:01\n",
      "     ------------------ ------------------ 81.9/162.8 kB 508.4 kB/s eta 0:00:01\n",
      "     ------------------ ------------------ 81.9/162.8 kB 508.4 kB/s eta 0:00:01\n",
      "     ------------------ ------------------ 81.9/162.8 kB 508.4 kB/s eta 0:00:01\n",
      "     ------------------ ------------------ 81.9/162.8 kB 508.4 kB/s eta 0:00:01\n",
      "     ------------------ ------------------ 81.9/162.8 kB 508.4 kB/s eta 0:00:01\n",
      "     ------------------ ------------------ 81.9/162.8 kB 508.4 kB/s eta 0:00:01\n",
      "     ------------------ ------------------ 81.9/162.8 kB 508.4 kB/s eta 0:00:01\n",
      "     ------------------------------- ---- 143.4/162.8 kB 258.0 kB/s eta 0:00:01\n",
      "     --------------------------------- -- 153.6/162.8 kB 247.6 kB/s eta 0:00:01\n",
      "     ------------------------------------ 162.8/162.8 kB 237.9 kB/s eta 0:00:00\n",
      "Collecting kiwisolver>=1.3.1 (from matplotlib)\n",
      "  Downloading kiwisolver-1.4.5-cp312-cp312-win_amd64.whl.metadata (6.5 kB)\n",
      "Requirement already satisfied: numpy>=1.21 in c:\\users\\kotaa\\appdata\\roaming\\python\\python312\\site-packages (from matplotlib) (1.26.3)\n",
      "Requirement already satisfied: packaging>=20.0 in c:\\users\\kotaa\\appdata\\roaming\\python\\python312\\site-packages (from matplotlib) (24.0)\n",
      "Requirement already satisfied: pillow>=8 in c:\\users\\kotaa\\appdata\\roaming\\python\\python312\\site-packages (from matplotlib) (10.2.0)\n",
      "Collecting pyparsing>=2.3.1 (from matplotlib)\n",
      "  Downloading pyparsing-3.1.2-py3-none-any.whl.metadata (5.1 kB)\n",
      "Requirement already satisfied: python-dateutil>=2.7 in c:\\users\\kotaa\\appdata\\roaming\\python\\python312\\site-packages (from matplotlib) (2.9.0.post0)\n",
      "Requirement already satisfied: six>=1.5 in c:\\users\\kotaa\\appdata\\roaming\\python\\python312\\site-packages (from python-dateutil>=2.7->matplotlib) (1.16.0)\n",
      "Downloading matplotlib-3.8.4-cp312-cp312-win_amd64.whl (7.7 MB)\n",
      "   ---------------------------------------- 0.0/7.7 MB ? eta -:--:--\n",
      "   ---------------------------------------- 0.0/7.7 MB ? eta -:--:--\n",
      "   ---------------------------------------- 0.0/7.7 MB ? eta -:--:--\n",
      "   ---------------------------------------- 0.1/7.7 MB 871.5 kB/s eta 0:00:09\n",
      "    --------------------------------------- 0.1/7.7 MB 853.3 kB/s eta 0:00:09\n",
      "   - -------------------------------------- 0.2/7.7 MB 1.0 MB/s eta 0:00:08\n",
      "   - -------------------------------------- 0.3/7.7 MB 1.1 MB/s eta 0:00:07\n",
      "   - -------------------------------------- 0.4/7.7 MB 1.0 MB/s eta 0:00:07\n",
      "   -- ------------------------------------- 0.4/7.7 MB 1.1 MB/s eta 0:00:07\n",
      "   -- ------------------------------------- 0.5/7.7 MB 1.1 MB/s eta 0:00:07\n",
      "   -- ------------------------------------- 0.6/7.7 MB 1.1 MB/s eta 0:00:07\n",
      "   -- ------------------------------------- 0.6/7.7 MB 1.1 MB/s eta 0:00:07\n",
      "   --- ------------------------------------ 0.7/7.7 MB 1.2 MB/s eta 0:00:07\n",
      "   --- ------------------------------------ 0.7/7.7 MB 1.2 MB/s eta 0:00:07\n",
      "   --- ------------------------------------ 0.7/7.7 MB 1.1 MB/s eta 0:00:07\n",
      "   --- ------------------------------------ 0.8/7.7 MB 1.0 MB/s eta 0:00:07\n",
      "   ---- ----------------------------------- 0.8/7.7 MB 1.1 MB/s eta 0:00:07\n",
      "   ---- ----------------------------------- 0.8/7.7 MB 1.0 MB/s eta 0:00:07\n",
      "   ---- ----------------------------------- 0.8/7.7 MB 1.0 MB/s eta 0:00:07\n",
      "   ---- ----------------------------------- 0.8/7.7 MB 1.0 MB/s eta 0:00:07\n",
      "   ---- ----------------------------------- 0.8/7.7 MB 1.0 MB/s eta 0:00:07\n",
      "   ---- ----------------------------------- 0.8/7.7 MB 1.0 MB/s eta 0:00:07\n",
      "   ---- ----------------------------------- 0.8/7.7 MB 1.0 MB/s eta 0:00:07\n",
      "   ---- ----------------------------------- 0.8/7.7 MB 1.0 MB/s eta 0:00:07\n",
      "   ----- ---------------------------------- 1.0/7.7 MB 798.0 kB/s eta 0:00:09\n",
      "   ----- ---------------------------------- 1.0/7.7 MB 798.0 kB/s eta 0:00:09\n",
      "   ----- ---------------------------------- 1.1/7.7 MB 811.7 kB/s eta 0:00:09\n",
      "   ----- ---------------------------------- 1.1/7.7 MB 798.7 kB/s eta 0:00:09\n",
      "   ------ --------------------------------- 1.2/7.7 MB 806.5 kB/s eta 0:00:09\n",
      "   ------ --------------------------------- 1.3/7.7 MB 864.4 kB/s eta 0:00:08\n",
      "   ------- -------------------------------- 1.4/7.7 MB 909.6 kB/s eta 0:00:07\n",
      "   ------- -------------------------------- 1.4/7.7 MB 902.0 kB/s eta 0:00:07\n",
      "   ------- -------------------------------- 1.5/7.7 MB 913.7 kB/s eta 0:00:07\n",
      "   ------- -------------------------------- 1.5/7.7 MB 892.3 kB/s eta 0:00:07\n",
      "   -------- ------------------------------- 1.5/7.7 MB 885.8 kB/s eta 0:00:07\n",
      "   -------- ------------------------------- 1.5/7.7 MB 885.8 kB/s eta 0:00:07\n",
      "   -------- ------------------------------- 1.6/7.7 MB 875.9 kB/s eta 0:00:07\n",
      "   -------- ------------------------------- 1.6/7.7 MB 875.9 kB/s eta 0:00:07\n",
      "   -------- ------------------------------- 1.6/7.7 MB 875.9 kB/s eta 0:00:07\n",
      "   -------- ------------------------------- 1.6/7.7 MB 875.9 kB/s eta 0:00:07\n",
      "   --------- ------------------------------ 1.7/7.7 MB 852.1 kB/s eta 0:00:07\n",
      "   --------- ------------------------------ 1.9/7.7 MB 878.8 kB/s eta 0:00:07\n",
      "   --------- ------------------------------ 1.9/7.7 MB 880.4 kB/s eta 0:00:07\n",
      "   ---------- ----------------------------- 2.0/7.7 MB 899.0 kB/s eta 0:00:07\n",
      "   ---------- ----------------------------- 2.0/7.7 MB 881.6 kB/s eta 0:00:07\n",
      "   ---------- ----------------------------- 2.1/7.7 MB 899.1 kB/s eta 0:00:07\n",
      "   ----------- ---------------------------- 2.2/7.7 MB 912.6 kB/s eta 0:00:06\n",
      "   ----------- ---------------------------- 2.2/7.7 MB 916.9 kB/s eta 0:00:06\n",
      "   ----------- ---------------------------- 2.2/7.7 MB 900.0 kB/s eta 0:00:07\n",
      "   ----------- ---------------------------- 2.3/7.7 MB 897.0 kB/s eta 0:00:07\n",
      "   ------------ --------------------------- 2.3/7.7 MB 899.3 kB/s eta 0:00:06\n",
      "   ------------ --------------------------- 2.3/7.7 MB 896.1 kB/s eta 0:00:06\n",
      "   ------------ --------------------------- 2.4/7.7 MB 886.7 kB/s eta 0:00:06\n",
      "   ------------ --------------------------- 2.4/7.7 MB 877.5 kB/s eta 0:00:06\n",
      "   ------------ --------------------------- 2.4/7.7 MB 876.3 kB/s eta 0:00:06\n",
      "   ------------- -------------------------- 2.5/7.7 MB 879.9 kB/s eta 0:00:06\n",
      "   ------------- -------------------------- 2.5/7.7 MB 879.9 kB/s eta 0:00:06\n",
      "   ------------- -------------------------- 2.5/7.7 MB 879.9 kB/s eta 0:00:06\n",
      "   ------------- -------------------------- 2.5/7.7 MB 844.2 kB/s eta 0:00:07\n",
      "   ------------- -------------------------- 2.5/7.7 MB 844.2 kB/s eta 0:00:07\n",
      "   ------------- -------------------------- 2.7/7.7 MB 849.8 kB/s eta 0:00:06\n",
      "   -------------- ------------------------- 2.8/7.7 MB 883.8 kB/s eta 0:00:06\n",
      "   -------------- ------------------------- 2.8/7.7 MB 882.4 kB/s eta 0:00:06\n",
      "   -------------- ------------------------- 2.9/7.7 MB 875.9 kB/s eta 0:00:06\n",
      "   --------------- ------------------------ 2.9/7.7 MB 877.0 kB/s eta 0:00:06\n",
      "   --------------- ------------------------ 2.9/7.7 MB 875.8 kB/s eta 0:00:06\n",
      "   --------------- ------------------------ 3.0/7.7 MB 882.0 kB/s eta 0:00:06\n",
      "   --------------- ------------------------ 3.1/7.7 MB 891.7 kB/s eta 0:00:06\n",
      "   ---------------- ----------------------- 3.2/7.7 MB 903.1 kB/s eta 0:00:05\n",
      "   ---------------- ----------------------- 3.2/7.7 MB 897.8 kB/s eta 0:00:05\n",
      "   ----------------- ---------------------- 3.3/7.7 MB 906.0 kB/s eta 0:00:05\n",
      "   ----------------- ---------------------- 3.3/7.7 MB 906.0 kB/s eta 0:00:05\n",
      "   ------------------ --------------------- 3.5/7.7 MB 910.0 kB/s eta 0:00:05\n",
      "   ------------------ --------------------- 3.5/7.7 MB 910.0 kB/s eta 0:00:05\n",
      "   ------------------ --------------------- 3.5/7.7 MB 910.0 kB/s eta 0:00:05\n",
      "   ------------------ --------------------- 3.5/7.7 MB 910.0 kB/s eta 0:00:05\n",
      "   ------------------ --------------------- 3.5/7.7 MB 872.0 kB/s eta 0:00:05\n",
      "   ------------------- -------------------- 3.6/7.7 MB 905.4 kB/s eta 0:00:05\n",
      "   ------------------- -------------------- 3.7/7.7 MB 910.1 kB/s eta 0:00:05\n",
      "   ------------------- -------------------- 3.7/7.7 MB 910.4 kB/s eta 0:00:05\n",
      "   ------------------- -------------------- 3.8/7.7 MB 913.1 kB/s eta 0:00:05\n",
      "   -------------------- ------------------- 3.9/7.7 MB 922.3 kB/s eta 0:00:05\n",
      "   -------------------- ------------------- 3.9/7.7 MB 923.9 kB/s eta 0:00:05\n",
      "   -------------------- ------------------- 4.0/7.7 MB 921.4 kB/s eta 0:00:04\n",
      "   -------------------- ------------------- 4.0/7.7 MB 921.4 kB/s eta 0:00:04\n",
      "   --------------------- ------------------ 4.1/7.7 MB 925.0 kB/s eta 0:00:04\n",
      "   --------------------- ------------------ 4.1/7.7 MB 918.0 kB/s eta 0:00:04\n",
      "   --------------------- ------------------ 4.2/7.7 MB 920.8 kB/s eta 0:00:04\n",
      "   ---------------------- ----------------- 4.3/7.7 MB 928.3 kB/s eta 0:00:04\n",
      "   ---------------------- ----------------- 4.3/7.7 MB 925.5 kB/s eta 0:00:04\n",
      "   ---------------------- ----------------- 4.3/7.7 MB 922.7 kB/s eta 0:00:04\n",
      "   ---------------------- ----------------- 4.4/7.7 MB 924.4 kB/s eta 0:00:04\n",
      "   ---------------------- ----------------- 4.4/7.7 MB 924.4 kB/s eta 0:00:04\n",
      "   ---------------------- ----------------- 4.4/7.7 MB 915.8 kB/s eta 0:00:04\n",
      "   ----------------------- ---------------- 4.4/7.7 MB 914.1 kB/s eta 0:00:04\n",
      "   ----------------------- ---------------- 4.4/7.7 MB 914.1 kB/s eta 0:00:04\n",
      "   ----------------------- ---------------- 4.4/7.7 MB 914.1 kB/s eta 0:00:04\n",
      "   ----------------------- ---------------- 4.4/7.7 MB 914.1 kB/s eta 0:00:04\n",
      "   ----------------------- ---------------- 4.4/7.7 MB 914.1 kB/s eta 0:00:04\n",
      "   ----------------------- ---------------- 4.4/7.7 MB 914.1 kB/s eta 0:00:04\n",
      "   ----------------------- ---------------- 4.4/7.7 MB 914.1 kB/s eta 0:00:04\n",
      "   ----------------------- ---------------- 4.5/7.7 MB 863.3 kB/s eta 0:00:04\n",
      "   ------------------------ --------------- 4.8/7.7 MB 906.3 kB/s eta 0:00:04\n",
      "   ------------------------- -------------- 4.8/7.7 MB 906.0 kB/s eta 0:00:04\n",
      "   ------------------------- -------------- 4.9/7.7 MB 903.0 kB/s eta 0:00:04\n",
      "   ------------------------- -------------- 4.9/7.7 MB 910.3 kB/s eta 0:00:03\n",
      "   -------------------------- ------------- 5.1/7.7 MB 923.1 kB/s eta 0:00:03\n",
      "   -------------------------- ------------- 5.1/7.7 MB 921.0 kB/s eta 0:00:03\n",
      "   -------------------------- ------------- 5.2/7.7 MB 924.2 kB/s eta 0:00:03\n",
      "   --------------------------- ------------ 5.2/7.7 MB 926.2 kB/s eta 0:00:03\n",
      "   --------------------------- ------------ 5.3/7.7 MB 927.3 kB/s eta 0:00:03\n",
      "   --------------------------- ------------ 5.3/7.7 MB 930.1 kB/s eta 0:00:03\n",
      "   ---------------------------- ----------- 5.4/7.7 MB 938.8 kB/s eta 0:00:03\n",
      "   ---------------------------- ----------- 5.5/7.7 MB 942.7 kB/s eta 0:00:03\n",
      "   ---------------------------- ----------- 5.5/7.7 MB 942.7 kB/s eta 0:00:03\n",
      "   ---------------------------- ----------- 5.6/7.7 MB 933.1 kB/s eta 0:00:03\n",
      "   ----------------------------- ---------- 5.7/7.7 MB 940.9 kB/s eta 0:00:03\n",
      "   ------------------------------ --------- 5.8/7.7 MB 943.7 kB/s eta 0:00:02\n",
      "   ------------------------------ --------- 5.8/7.7 MB 950.6 kB/s eta 0:00:02\n",
      "   ------------------------------- -------- 6.0/7.7 MB 959.9 kB/s eta 0:00:02\n",
      "   ------------------------------- -------- 6.0/7.7 MB 962.6 kB/s eta 0:00:02\n",
      "   ------------------------------- -------- 6.1/7.7 MB 958.8 kB/s eta 0:00:02\n",
      "   ------------------------------- -------- 6.1/7.7 MB 959.6 kB/s eta 0:00:02\n",
      "   -------------------------------- ------- 6.2/7.7 MB 966.3 kB/s eta 0:00:02\n",
      "   -------------------------------- ------- 6.2/7.7 MB 968.8 kB/s eta 0:00:02\n",
      "   --------------------------------- ------ 6.3/7.7 MB 973.6 kB/s eta 0:00:02\n",
      "   --------------------------------- ------ 6.4/7.7 MB 972.2 kB/s eta 0:00:02\n",
      "   --------------------------------- ------ 6.4/7.7 MB 973.0 kB/s eta 0:00:02\n",
      "   --------------------------------- ------ 6.5/7.7 MB 973.8 kB/s eta 0:00:02\n",
      "   ---------------------------------- ----- 6.5/7.7 MB 974.7 kB/s eta 0:00:02\n",
      "   ---------------------------------- ----- 6.7/7.7 MB 982.4 kB/s eta 0:00:02\n",
      "   ----------------------------------- ---- 6.8/7.7 MB 990.6 kB/s eta 0:00:01\n",
      "   ------------------------------------ --- 6.9/7.7 MB 1.0 MB/s eta 0:00:01\n",
      "   ------------------------------------ --- 7.0/7.7 MB 1.0 MB/s eta 0:00:01\n",
      "   ------------------------------------ --- 7.0/7.7 MB 1.0 MB/s eta 0:00:01\n",
      "   ------------------------------------ --- 7.0/7.7 MB 1.0 MB/s eta 0:00:01\n",
      "   ------------------------------------ --- 7.0/7.7 MB 1.0 MB/s eta 0:00:01\n",
      "   ------------------------------------ --- 7.0/7.7 MB 1.0 MB/s eta 0:00:01\n",
      "   ------------------------------------- -- 7.2/7.7 MB 996.6 kB/s eta 0:00:01\n",
      "   -------------------------------------- - 7.5/7.7 MB 1.0 MB/s eta 0:00:01\n",
      "   ---------------------------------------  7.6/7.7 MB 1.0 MB/s eta 0:00:01\n",
      "   ---------------------------------------  7.7/7.7 MB 1.0 MB/s eta 0:00:01\n",
      "   ---------------------------------------- 7.7/7.7 MB 1.0 MB/s eta 0:00:00\n",
      "Downloading contourpy-1.2.1-cp312-cp312-win_amd64.whl (189 kB)\n",
      "   ---------------------------------------- 0.0/189.9 kB ? eta -:--:--\n",
      "   ---------------------------------- ----- 163.8/189.9 kB 5.0 MB/s eta 0:00:01\n",
      "   ---------------------------------- ----- 163.8/189.9 kB 5.0 MB/s eta 0:00:01\n",
      "   -------------------------------------- - 184.3/189.9 kB 1.6 MB/s eta 0:00:01\n",
      "   ---------------------------------------- 189.9/189.9 kB 1.2 MB/s eta 0:00:00\n",
      "Downloading cycler-0.12.1-py3-none-any.whl (8.3 kB)\n",
      "Downloading fonttools-4.51.0-cp312-cp312-win_amd64.whl (2.2 MB)\n",
      "   ---------------------------------------- 0.0/2.2 MB ? eta -:--:--\n",
      "   ---------------------------------------- 0.0/2.2 MB ? eta -:--:--\n",
      "   ---------------------------------------- 0.0/2.2 MB ? eta -:--:--\n",
      "    --------------------------------------- 0.0/2.2 MB 186.2 kB/s eta 0:00:12\n",
      "   - -------------------------------------- 0.1/2.2 MB 297.7 kB/s eta 0:00:08\n",
      "   ---- ----------------------------------- 0.3/2.2 MB 983.0 kB/s eta 0:00:02\n",
      "   --------- ------------------------------ 0.5/2.2 MB 1.7 MB/s eta 0:00:02\n",
      "   --------- ------------------------------ 0.5/2.2 MB 1.7 MB/s eta 0:00:02\n",
      "   -------------- ------------------------- 0.8/2.2 MB 2.0 MB/s eta 0:00:01\n",
      "   --------------- ------------------------ 0.8/2.2 MB 2.0 MB/s eta 0:00:01\n",
      "   ------------------- -------------------- 1.0/2.2 MB 2.1 MB/s eta 0:00:01\n",
      "   -------------------- ------------------- 1.1/2.2 MB 2.0 MB/s eta 0:00:01\n",
      "   ------------------------ --------------- 1.3/2.2 MB 2.2 MB/s eta 0:00:01\n",
      "   ------------------------- -------------- 1.4/2.2 MB 2.2 MB/s eta 0:00:01\n",
      "   ------------------------- -------------- 1.4/2.2 MB 2.0 MB/s eta 0:00:01\n",
      "   ----------------------------- ---------- 1.6/2.2 MB 2.1 MB/s eta 0:00:01\n",
      "   -------------------------------- ------- 1.8/2.2 MB 2.1 MB/s eta 0:00:01\n",
      "   ----------------------------------- ---- 2.0/2.2 MB 2.2 MB/s eta 0:00:01\n",
      "   ------------------------------------- -- 2.0/2.2 MB 2.2 MB/s eta 0:00:01\n",
      "   ---------------------------------------- 2.2/2.2 MB 2.1 MB/s eta 0:00:00\n",
      "Downloading kiwisolver-1.4.5-cp312-cp312-win_amd64.whl (56 kB)\n",
      "   ---------------------------------------- 0.0/56.0 kB ? eta -:--:--\n",
      "   ---------------------------------------- 56.0/56.0 kB 2.9 MB/s eta 0:00:00\n",
      "Downloading pyparsing-3.1.2-py3-none-any.whl (103 kB)\n",
      "   ---------------------------------------- 0.0/103.2 kB ? eta -:--:--\n",
      "   ---------------------------------------  102.4/103.2 kB 5.8 MB/s eta 0:00:01\n",
      "   ---------------------------------------- 103.2/103.2 kB 2.0 MB/s eta 0:00:00\n",
      "Installing collected packages: pyparsing, kiwisolver, fonttools, cycler, contourpy, matplotlib\n",
      "Successfully installed contourpy-1.2.1 cycler-0.12.1 fonttools-4.51.0 kiwisolver-1.4.5 matplotlib-3.8.4 pyparsing-3.1.2\n"
     ]
    }
   ],
   "source": [
    "!pip install matplotlib"
   ]
  },
  {
   "cell_type": "code",
   "execution_count": 10,
   "metadata": {},
   "outputs": [
    {
     "data": {
      "text/plain": [
       "Text(0.5, 1.0, 'qkv distribution')"
      ]
     },
     "execution_count": 10,
     "metadata": {},
     "output_type": "execute_result"
    },
    {
     "data": {
      "image/png": "[encoded data removed]",
      "text/plain": [
       "<Figure size 640x480 with 1 Axes>"
      ]
     },
     "metadata": {},
     "output_type": "display_data"
    }
   ],
   "source": [
    "\n",
    "import matplotlib.pyplot as plt\n",
    "y_val = torch.histc(qkv, bins=200, min=-3, max=3)\n",
    "x_val = np.arange(-1, 1, 0.01) * 3\n",
    "plt.bar(x_val, y_val, align='center', color=['forestgreen'])\n",
    "plt.title('qkv distribution')"
   ]
  },
  {
   "cell_type": "code",
   "execution_count": 11,
   "metadata": {},
   "outputs": [],
   "source": [
    "\n",
    "num_heads = 8\n",
    "head_dim = d_model // num_heads\n",
    "qkv = qkv.reshape(batch_size, sequence_length, num_heads, 3 * head_dim)\n",
    "     "
   ]
  },
  {
   "cell_type": "code",
   "execution_count": 13,
   "metadata": {},
   "outputs": [
    {
     "data": {
      "text/plain": [
       "torch.Size([1, 4, 8, 192])"
      ]
     },
     "execution_count": 13,
     "metadata": {},
     "output_type": "execute_result"
    }
   ],
   "source": [
    "qkv.shape"
   ]
  },
  {
   "cell_type": "code",
   "execution_count": 14,
   "metadata": {},
   "outputs": [
    {
     "data": {
      "text/plain": [
       "tensor([[[[ 0.4121,  1.0475,  0.9304,  ..., -0.2538,  0.4027, -0.5631],\n",
       "          [ 0.1265,  0.2357, -0.6932,  ..., -0.0689,  0.3813,  0.8424],\n",
       "          [-1.7587, -0.1289, -0.3468,  ..., -0.3009, -0.9601,  0.0314],\n",
       "          ...,\n",
       "          [ 0.9932,  0.2403,  0.8258,  ..., -0.3528,  0.3935, -0.2210],\n",
       "          [-0.6290, -0.6340, -0.5650,  ..., -0.5164, -0.0684, -0.6534],\n",
       "          [ 0.1553,  0.0196, -0.0320,  ...,  1.3388, -0.1815,  0.1959]],\n",
       "\n",
       "         [[-0.7871, -1.2775, -0.5500,  ...,  0.3808, -0.5871,  0.7528],\n",
       "          [ 0.1638,  0.2858,  0.4558,  ...,  0.0402,  0.5766,  0.4770],\n",
       "          [ 0.4846,  0.4001, -0.0595,  ...,  1.1417,  0.7986, -0.1329],\n",
       "          ...,\n",
       "          [-0.1952, -0.2761,  0.4180,  ...,  0.7767, -0.3199, -0.6048],\n",
       "          [ 0.1219, -0.0248,  0.3388,  ...,  0.5961,  0.5987,  0.4035],\n",
       "          [-0.1016,  0.3181,  1.0048,  ...,  0.1074,  0.6160, -1.4779]],\n",
       "\n",
       "         [[-0.2909,  0.1563,  0.2988,  ...,  0.5652, -0.4903,  0.4187],\n",
       "          [-0.0278, -0.9482, -0.7959,  ..., -0.1749,  0.9865,  0.0726],\n",
       "          [ 0.5971,  0.3659, -1.0637,  ..., -0.4715,  0.4194, -0.2575],\n",
       "          ...,\n",
       "          [-0.1587, -1.0009,  0.5166,  ..., -0.4979,  0.2112,  0.3787],\n",
       "          [-0.4595, -0.2248,  0.0903,  ...,  0.8435,  0.3658,  0.7916],\n",
       "          [-0.1316,  0.5220, -0.4718,  ..., -0.7369,  0.2135, -0.0020]],\n",
       "\n",
       "         [[-1.5456,  0.2769,  0.1983,  ..., -0.0109, -0.3120, -1.2084],\n",
       "          [ 0.3731, -0.4286, -0.8065,  ..., -0.1452,  0.4246,  0.1721],\n",
       "          [ 0.1542, -0.6584, -0.7586,  ..., -0.6855,  0.6340, -0.4199],\n",
       "          ...,\n",
       "          [ 0.0982, -0.8818, -0.8240,  ..., -0.5136, -0.2109, -0.2737],\n",
       "          [-0.3694,  0.7943, -0.3870,  ..., -0.5323, -0.0745,  0.9674],\n",
       "          [-0.0884,  0.2546, -1.1889,  ...,  0.5156, -0.3571, -0.7285]]]],\n",
       "       grad_fn=<ViewBackward0>)"
      ]
     },
     "execution_count": 14,
     "metadata": {},
     "output_type": "execute_result"
    }
   ],
   "source": [
    "qkv"
   ]
  },
  {
   "cell_type": "code",
   "execution_count": 15,
   "metadata": {},
   "outputs": [
    {
     "data": {
      "text/plain": [
       "torch.Size([1, 8, 4, 192])"
      ]
     },
     "execution_count": 15,
     "metadata": {},
     "output_type": "execute_result"
    }
   ],
   "source": [
    "\n",
    "qkv = qkv.permute(0, 2, 1, 3) # [batch_size, num_heads, sequence_length, 3*head_dim]\n",
    "qkv.shape"
   ]
  },
  {
   "cell_type": "code",
   "execution_count": 16,
   "metadata": {},
   "outputs": [
    {
     "data": {
      "text/plain": [
       "(torch.Size([1, 8, 4, 64]),\n",
       " torch.Size([1, 8, 4, 64]),\n",
       " torch.Size([1, 8, 4, 64]))"
      ]
     },
     "execution_count": 16,
     "metadata": {},
     "output_type": "execute_result"
    }
   ],
   "source": [
    "q, k, v = qkv.chunk(3,dim= -1)\n",
    "q.shape, k.shape, v.shape"
   ]
  },
  {
   "cell_type": "code",
   "execution_count": 18,
   "metadata": {},
   "outputs": [
    {
     "data": {
      "text/plain": [
       "torch.Size([1, 8, 4, 4])"
      ]
     },
     "execution_count": 18,
     "metadata": {},
     "output_type": "execute_result"
    }
   ],
   "source": [
    "import math\n",
    "d_k = q.size()[-1]\n",
    "scaled = torch.matmul(q, k.transpose(-2, -1)) / math.sqrt(d_k)\n",
    "scaled.shape"
   ]
  },
  {
   "cell_type": "code",
   "execution_count": 19,
   "metadata": {},
   "outputs": [
    {
     "name": "stderr",
     "output_type": "stream",
     "text": [
      "C:\\Users\\kotaa\\AppData\\Local\\Temp\\ipykernel_5636\\3724124494.py:1: UserWarning: The use of `x.T` on tensors of dimension other than 2 to reverse their shape is deprecated and it will throw an error in a future release. Consider `x.mT` to transpose batches of matrices or `x.permute(*torch.arange(x.ndim - 1, -1, -1))` to reverse the dimensions of a tensor. (Triggered internally at ..\\aten\\src\\ATen\\native\\TensorShape.cpp:3641.)\n",
      "  k.T.shape\n"
     ]
    },
    {
     "data": {
      "text/plain": [
       "torch.Size([64, 4, 8, 1])"
      ]
     },
     "execution_count": 19,
     "metadata": {},
     "output_type": "execute_result"
    }
   ],
   "source": [
    "k.T.shape\n"
   ]
  },
  {
   "cell_type": "code",
   "execution_count": 20,
   "metadata": {},
   "outputs": [
    {
     "data": {
      "text/plain": [
       "tensor([[-0.0847, -1.0901],\n",
       "        [ 0.0769,  1.8695],\n",
       "        [-0.3478, -0.3110]])"
      ]
     },
     "execution_count": 20,
     "metadata": {},
     "output_type": "execute_result"
    }
   ],
   "source": [
    "\n",
    "y = torch.randn(2, 3)\n",
    "torch.transpose(y, 0, 1)"
   ]
  },
  {
   "cell_type": "code",
   "execution_count": 21,
   "metadata": {},
   "outputs": [
    {
     "data": {
      "text/plain": [
       "tensor([[-0.0847, -1.0901],\n",
       "        [ 0.0769,  1.8695],\n",
       "        [-0.3478, -0.3110]])"
      ]
     },
     "execution_count": 21,
     "metadata": {},
     "output_type": "execute_result"
    }
   ],
   "source": [
    "torch.transpose(y, 1, 0)\n"
   ]
  },
  {
   "cell_type": "code",
   "execution_count": 22,
   "metadata": {},
   "outputs": [
    {
     "data": {
      "text/plain": [
       "tensor([[[[True, True, True, True],\n",
       "          [True, True, True, True],\n",
       "          [True, True, True, True],\n",
       "          ...,\n",
       "          [True, True, True, True],\n",
       "          [True, True, True, True],\n",
       "          [True, True, True, True]],\n",
       "\n",
       "         [[True, True, True, True],\n",
       "          [True, True, True, True],\n",
       "          [True, True, True, True],\n",
       "          ...,\n",
       "          [True, True, True, True],\n",
       "          [True, True, True, True],\n",
       "          [True, True, True, True]],\n",
       "\n",
       "         [[True, True, True, True],\n",
       "          [True, True, True, True],\n",
       "          [True, True, True, True],\n",
       "          ...,\n",
       "          [True, True, True, True],\n",
       "          [True, True, True, True],\n",
       "          [True, True, True, True]],\n",
       "\n",
       "         ...,\n",
       "\n",
       "         [[True, True, True, True],\n",
       "          [True, True, True, True],\n",
       "          [True, True, True, True],\n",
       "          ...,\n",
       "          [True, True, True, True],\n",
       "          [True, True, True, True],\n",
       "          [True, True, True, True]],\n",
       "\n",
       "         [[True, True, True, True],\n",
       "          [True, True, True, True],\n",
       "          [True, True, True, True],\n",
       "          ...,\n",
       "          [True, True, True, True],\n",
       "          [True, True, True, True],\n",
       "          [True, True, True, True]],\n",
       "\n",
       "         [[True, True, True, True],\n",
       "          [True, True, True, True],\n",
       "          [True, True, True, True],\n",
       "          ...,\n",
       "          [True, True, True, True],\n",
       "          [True, True, True, True],\n",
       "          [True, True, True, True]]]])"
      ]
     },
     "execution_count": 22,
     "metadata": {},
     "output_type": "execute_result"
    }
   ],
   "source": [
    "k.transpose(-1, -2) == k.transpose(-2, -1)\n"
   ]
  },
  {
   "cell_type": "code",
   "execution_count": 23,
   "metadata": {},
   "outputs": [
    {
     "data": {
      "text/plain": [
       "torch.Size([1, 8, 64, 4])"
      ]
     },
     "execution_count": 23,
     "metadata": {},
     "output_type": "execute_result"
    }
   ],
   "source": [
    "k.transpose(-1, -2).shape\n"
   ]
  },
  {
   "cell_type": "code",
   "execution_count": 24,
   "metadata": {},
   "outputs": [
    {
     "data": {
      "text/plain": [
       "tensor([[0., -inf, -inf, -inf],\n",
       "        [0., 0., -inf, -inf],\n",
       "        [0., 0., 0., -inf],\n",
       "        [0., 0., 0., 0.]])"
      ]
     },
     "execution_count": 24,
     "metadata": {},
     "output_type": "execute_result"
    }
   ],
   "source": [
    "\n",
    "mask = torch.full(scaled.size() , float('-inf'))\n",
    "mask = torch.triu(mask, diagonal=1)\n",
    "mask[0][1] # mask for input to a single head"
   ]
  },
  {
   "cell_type": "code",
   "execution_count": 25,
   "metadata": {},
   "outputs": [
    {
     "data": {
      "text/plain": [
       "tensor([[ 0.1433,    -inf,    -inf,    -inf],\n",
       "        [-0.2223, -0.2117,    -inf,    -inf],\n",
       "        [ 0.1460, -0.1696,  0.4187,    -inf],\n",
       "        [-0.6582, -0.2578,  0.5641,  0.7072]], grad_fn=<SelectBackward0>)"
      ]
     },
     "execution_count": 25,
     "metadata": {},
     "output_type": "execute_result"
    }
   ],
   "source": [
    "(scaled + mask)[0][0]\n"
   ]
  },
  {
   "cell_type": "code",
   "execution_count": 26,
   "metadata": {},
   "outputs": [],
   "source": [
    "scaled += mask\n"
   ]
  },
  {
   "cell_type": "code",
   "execution_count": 27,
   "metadata": {},
   "outputs": [
    {
     "data": {
      "text/plain": [
       "0.6269606805367254"
      ]
     },
     "execution_count": 27,
     "metadata": {},
     "output_type": "execute_result"
    }
   ],
   "source": [
    "np.exp(0.5596) / (np.exp(0.5596) + np.exp(0.0404))\n"
   ]
  },
  {
   "cell_type": "code",
   "execution_count": 28,
   "metadata": {},
   "outputs": [],
   "source": [
    "attention = F.softmax(scaled, dim=-1)\n"
   ]
  },
  {
   "cell_type": "code",
   "execution_count": 29,
   "metadata": {},
   "outputs": [
    {
     "data": {
      "text/plain": [
       "torch.Size([1, 8, 4, 4])"
      ]
     },
     "execution_count": 29,
     "metadata": {},
     "output_type": "execute_result"
    }
   ],
   "source": [
    "attention.shape\n"
   ]
  },
  {
   "cell_type": "code",
   "execution_count": 30,
   "metadata": {},
   "outputs": [
    {
     "data": {
      "text/plain": [
       "tensor([[1.0000, 0.0000, 0.0000, 0.0000],\n",
       "        [0.4973, 0.5027, 0.0000, 0.0000],\n",
       "        [0.3286, 0.2397, 0.4317, 0.0000],\n",
       "        [0.1020, 0.1522, 0.3463, 0.3995]], grad_fn=<SelectBackward0>)"
      ]
     },
     "execution_count": 30,
     "metadata": {},
     "output_type": "execute_result"
    }
   ],
   "source": [
    "attention[0][0]\n"
   ]
  },
  {
   "cell_type": "code",
   "execution_count": 31,
   "metadata": {},
   "outputs": [
    {
     "data": {
      "text/plain": [
       "torch.Size([1, 8, 4, 64])"
      ]
     },
     "execution_count": 31,
     "metadata": {},
     "output_type": "execute_result"
    }
   ],
   "source": [
    "values = torch.matmul(attention, v)\n",
    "values.shape"
   ]
  },
  {
   "cell_type": "code",
   "execution_count": 32,
   "metadata": {},
   "outputs": [],
   "source": [
    "\n",
    "\n",
    "import math\n",
    "\n",
    "def scaled_dot_product(q, k, v, mask=None):\n",
    "    d_k = q.size()[-1]\n",
    "    scaled = torch.matmul(q, k.transpose(-1, -2)) / math.sqrt(d_k)\n",
    "    if mask is not None:\n",
    "        scaled += mask\n",
    "    attention = F.softmax(scaled, dim=-1)\n",
    "    values = torch.matmul(attention, v)\n",
    "    return values, attention"
   ]
  },
  {
   "cell_type": "code",
   "execution_count": 33,
   "metadata": {},
   "outputs": [],
   "source": [
    "values, attention = scaled_dot_product(q, k, v, mask=mask)"
   ]
  },
  {
   "cell_type": "code",
   "execution_count": 34,
   "metadata": {},
   "outputs": [
    {
     "data": {
      "text/plain": [
       "torch.Size([1, 8, 4, 4])"
      ]
     },
     "execution_count": 34,
     "metadata": {},
     "output_type": "execute_result"
    }
   ],
   "source": [
    "attention.shape\n"
   ]
  },
  {
   "cell_type": "code",
   "execution_count": 35,
   "metadata": {},
   "outputs": [
    {
     "data": {
      "text/plain": [
       "tensor([[1.0000, 0.0000, 0.0000, 0.0000],\n",
       "        [0.4973, 0.5027, 0.0000, 0.0000],\n",
       "        [0.3286, 0.2397, 0.4317, 0.0000],\n",
       "        [0.1020, 0.1522, 0.3463, 0.3995]], grad_fn=<SelectBackward0>)"
      ]
     },
     "execution_count": 35,
     "metadata": {},
     "output_type": "execute_result"
    }
   ],
   "source": [
    "attention[0][0]\n"
   ]
  },
  {
   "cell_type": "code",
   "execution_count": 36,
   "metadata": {},
   "outputs": [
    {
     "data": {
      "text/plain": [
       "torch.Size([1, 8, 4, 64])"
      ]
     },
     "execution_count": 36,
     "metadata": {},
     "output_type": "execute_result"
    }
   ],
   "source": [
    "values.size()\n"
   ]
  },
  {
   "cell_type": "code",
   "execution_count": 37,
   "metadata": {},
   "outputs": [
    {
     "data": {
      "text/plain": [
       "torch.Size([1, 4, 512])"
      ]
     },
     "execution_count": 37,
     "metadata": {},
     "output_type": "execute_result"
    }
   ],
   "source": [
    "\n",
    "values = values.reshape(batch_size, sequence_length, num_heads * head_dim)\n",
    "values.size()"
   ]
  },
  {
   "cell_type": "code",
   "execution_count": 38,
   "metadata": {},
   "outputs": [],
   "source": [
    "linear_layer = nn.Linear(d_model, d_model)\n"
   ]
  },
  {
   "cell_type": "code",
   "execution_count": 39,
   "metadata": {},
   "outputs": [],
   "source": [
    "out = linear_layer(values)"
   ]
  },
  {
   "cell_type": "code",
   "execution_count": 40,
   "metadata": {},
   "outputs": [
    {
     "data": {
      "text/plain": [
       "torch.Size([1, 4, 512])"
      ]
     },
     "execution_count": 40,
     "metadata": {},
     "output_type": "execute_result"
    }
   ],
   "source": [
    "out.shape"
   ]
  },
  {
   "cell_type": "code",
   "execution_count": 41,
   "metadata": {},
   "outputs": [
    {
     "data": {
      "text/plain": [
       "tensor([[[-0.1676,  0.0361, -0.1637,  ..., -0.5512,  0.1939, -0.1296],\n",
       "         [ 0.4908, -0.3093, -0.2582,  ...,  0.5500, -0.1298,  0.1635],\n",
       "         [ 0.6074, -0.2322, -0.0047,  ..., -0.0936,  0.2092, -0.0075],\n",
       "         [-0.0271, -0.1051, -0.0044,  ..., -0.0617, -0.2960, -0.2976]]],\n",
       "       grad_fn=<ViewBackward0>)"
      ]
     },
     "execution_count": 41,
     "metadata": {},
     "output_type": "execute_result"
    }
   ],
   "source": [
    "out\n"
   ]
  },
  {
   "cell_type": "code",
   "execution_count": 42,
   "metadata": {},
   "outputs": [],
   "source": [
    "\n",
    "import torch\n",
    "import torch.nn as nn\n",
    "import math\n",
    "\n",
    "def scaled_dot_product(q, k, v, mask=None):\n",
    "    d_k = q.size()[-1]\n",
    "    scaled = torch.matmul(q, k.transpose(-1, -2)) / math.sqrt(d_k)\n",
    "    if mask is not None:\n",
    "        scaled += mask\n",
    "    attention = F.softmax(scaled, dim=-1)\n",
    "    values = torch.matmul(attention, v)\n",
    "    return values, attention\n",
    "\n",
    "class MultiheadAttention(nn.Module):\n",
    "\n",
    "    def __init__(self, input_dim, d_model, num_heads):\n",
    "        super().__init__()\n",
    "        self.input_dim = input_dim\n",
    "        self.d_model = d_model\n",
    "        self.num_heads = num_heads\n",
    "        self.head_dim = d_model // num_heads\n",
    "        self.qkv_layer = nn.Linear(input_dim , 3 * d_model)\n",
    "        self.linear_layer = nn.Linear(d_model, d_model)\n",
    "    \n",
    "    def forward(self, x, mask=None):\n",
    "        batch_size, sequence_length, input_dim = x.size()\n",
    "        print(f\"x.size(): {x.size()}\")\n",
    "        qkv = self.qkv_layer(x)\n",
    "        print(f\"qkv.size(): {qkv.size()}\")\n",
    "        qkv = qkv.reshape(batch_size, sequence_length, self.num_heads, 3 * self.head_dim)\n",
    "        print(f\"qkv.size(): {qkv.size()}\")\n",
    "        qkv = qkv.permute(0, 2, 1, 3)\n",
    "        print(f\"qkv.size(): {qkv.size()}\")\n",
    "        q, k, v = qkv.chunk(3, dim=-1)\n",
    "        print(f\"q size: {q.size()}, k size: {k.size()}, v size: {v.size()}, \")\n",
    "        values, attention = scaled_dot_product(q, k, v, mask)\n",
    "        print(f\"values.size(): {values.size()}, attention.size:{ attention.size()} \")\n",
    "        values = values.reshape(batch_size, sequence_length, self.num_heads * self.head_dim)\n",
    "        print(f\"values.size(): {values.size()}\")\n",
    "        out = self.linear_layer(values)\n",
    "        print(f\"out.size(): {out.size()}\")\n",
    "        return out"
   ]
  },
  {
   "cell_type": "code",
   "execution_count": 43,
   "metadata": {},
   "outputs": [
    {
     "name": "stdout",
     "output_type": "stream",
     "text": [
      "x.size(): torch.Size([30, 5, 1024])\n",
      "qkv.size(): torch.Size([30, 5, 1536])\n",
      "qkv.size(): torch.Size([30, 5, 8, 192])\n",
      "qkv.size(): torch.Size([30, 8, 5, 192])\n",
      "q size: torch.Size([30, 8, 5, 64]), k size: torch.Size([30, 8, 5, 64]), v size: torch.Size([30, 8, 5, 64]), \n",
      "values.size(): torch.Size([30, 8, 5, 64]), attention.size:torch.Size([30, 8, 5, 5]) \n",
      "values.size(): torch.Size([30, 5, 512])\n",
      "out.size(): torch.Size([30, 5, 512])\n"
     ]
    }
   ],
   "source": [
    "\n",
    "input_dim = 1024\n",
    "d_model = 512\n",
    "num_heads = 8\n",
    "\n",
    "batch_size = 30\n",
    "sequence_length = 5\n",
    "x = torch.randn( (batch_size, sequence_length, input_dim) )\n",
    "\n",
    "model = MultiheadAttention(input_dim, d_model, num_heads)\n",
    "out = model.forward(x)"
   ]
  },
  {
   "cell_type": "code",
   "execution_count": null,
   "metadata": {},
   "outputs": [],
   "source": []
  }
 ],
 "metadata": {
  "kernelspec": {
   "display_name": "Python 3",
   "language": "python",
   "name": "python3"
  },
  "language_info": {
   "codemirror_mode": {
    "name": "ipython",
    "version": 3
   },
   "file_extension": ".py",
   "mimetype": "text/x-python",
   "name": "python",
   "nbconvert_exporter": "python",
   "pygments_lexer": "ipython3",
   "version": "3.12.2"
  }
 },
 "nbformat": 4,
 "nbformat_minor": 2
}
